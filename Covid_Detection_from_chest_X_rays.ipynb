{
  "nbformat": 4,
  "nbformat_minor": 0,
  "metadata": {
    "colab": {
      "name": "Covid Detection from chest X-rays.ipynb",
      "provenance": [],
      "collapsed_sections": []
    },
    "kernelspec": {
      "display_name": "Python 3",
      "name": "python3"
    },
    "language_info": {
      "name": "python"
    },
    "accelerator": "GPU"
  },
  "cells": [
    {
      "cell_type": "markdown",
      "metadata": {
        "id": "xn7Ai241R4s8"
      },
      "source": [
        "**DATASET:**\n",
        "\n",
        "The dataset is collected from different open sources:\n",
        "\n",
        "\n",
        "\n",
        "1.   There are 902 normal x-ray images and 1440 pneumonia x-ray images.\n",
        "2.   There are a total of 615 covid-19 x-ray images obtained from the following sources:\n",
        "\n",
        "\n",
        "*   280 images from the GitHub repository shared by Dr. Joseph Cohen (https://github.com/ieee8023/covid-chestxray-dataset)\n",
        "*   1329 images from kaggle repository (https://www.kaggle.com/tawsifurrahman/covid19-radiography-database)\n",
        "*   60 images from the github repository (https://github.com/agchung/Figure1-COVID-chestxray-dataset)\n",
        "* 1288 images from Kaggle repository (https://www.kaggle.com/prashant268/chest-xray-covid19-pneumonia)\n",
        "\n",
        "\n"
      ]
    },
    {
      "cell_type": "code",
      "metadata": {
        "colab": {
          "base_uri": "https://localhost:8080/"
        },
        "id": "Agz4JftkhlVc",
        "outputId": "9d171e41-3a45-4493-d0f3-0421709422ba"
      },
      "source": [
        "from google.colab import drive\n",
        "drive.mount('/content/drive')"
      ],
      "execution_count": null,
      "outputs": [
        {
          "output_type": "stream",
          "text": [
            "Mounted at /content/drive\n"
          ],
          "name": "stdout"
        }
      ]
    },
    {
      "cell_type": "code",
      "metadata": {
        "colab": {
          "base_uri": "https://localhost:8080/"
        },
        "id": "NmUmSVW3hrHR",
        "outputId": "e002f34c-1326-4b45-da53-1aa93508c109"
      },
      "source": [
        "!unzip '/content/drive/MyDrive/OELP/normal_images_kaggle_500.zip' -d '/content/drive/MyDrive/OELP' \n",
        "!unzip '/content/drive/MyDrive/OELP/pneumonia_images_kaggle_500.zip' -d '/content/drive/MyDrive/OELP'\n",
        "!unzip '/content/drive/MyDrive/OELP/covid19_images_agchung_55.zip' -d '/content/drive/MyDrive/OELP'\n",
        "!unzip '/content/drive/MyDrive/OELP/covid19_images_cohen_192.zip' -d '/content/drive/MyDrive/OELP'\n",
        "!unzip '/content/drive/MyDrive/OELP/covid19_images_kaggle_203.zip' -d '/content/drive/MyDrive/OELP'"
      ],
      "execution_count": null,
      "outputs": [
        {
          "output_type": "stream",
          "text": [
            "Archive:  /content/drive/MyDrive/OELP/normal_images_kaggle_500.zip\n",
            "replace /content/drive/MyDrive/OELP/normal_images_kaggle_500/00003552_005.png? [y]es, [n]o, [A]ll, [N]one, [r]ename: N\n",
            "Archive:  /content/drive/MyDrive/OELP/pneumonia_images_kaggle_500.zip\n",
            "replace /content/drive/MyDrive/OELP/pneumonia_images_kaggle_500/00005567_000.png? [y]es, [n]o, [A]ll, [N]one, [r]ename: N\n",
            "Archive:  /content/drive/MyDrive/OELP/covid19_images_agchung_55.zip\n",
            "replace /content/drive/MyDrive/OELP/covid19_images_agchung_55/COVID-00012.jpg? [y]es, [n]o, [A]ll, [N]one, [r]ename: N\n",
            "Archive:  /content/drive/MyDrive/OELP/covid19_images_cohen_192.zip\n",
            "replace /content/drive/MyDrive/OELP/covid19_images_cohen_192/extubation-8.jpg? [y]es, [n]o, [A]ll, [N]one, [r]ename: N\n",
            "Archive:  /content/drive/MyDrive/OELP/covid19_images_kaggle_203.zip\n",
            "replace /content/drive/MyDrive/OELP/covid19_images_kaggle_203/COVID (73).png? [y]es, [n]o, [A]ll, [N]one, [r]ename: N\n"
          ],
          "name": "stdout"
        }
      ]
    },
    {
      "cell_type": "code",
      "metadata": {
        "id": "eTgzzRpwh3eO"
      },
      "source": [
        "import numpy as np\n",
        "import cv2\n",
        "import PIL\n",
        "from PIL import Image\n",
        "import glob\n",
        "import os"
      ],
      "execution_count": null,
      "outputs": []
    },
    {
      "cell_type": "code",
      "metadata": {
        "id": "N6hyiPiNh_A2"
      },
      "source": [
        "path = '/content/drive/MyDrive/OELP'"
      ],
      "execution_count": null,
      "outputs": []
    },
    {
      "cell_type": "markdown",
      "metadata": {
        "id": "vFAayPQsSwYd"
      },
      "source": [
        "**Image Preprocessing**"
      ]
    },
    {
      "cell_type": "code",
      "metadata": {
        "id": "_3fKz-tZiLto"
      },
      "source": [
        "import torch\n",
        "import torchvision\n",
        "import torchvision.transforms as transforms\n",
        "\n",
        "def preprocessing(path):\n",
        "  filelist = sorted(glob.glob(os.path.join(path, '*.jpg')))\n",
        "  print(len(filelist))\n",
        "  images = []\n",
        "  for file in filelist:\n",
        "    image = Image.open(file)\n",
        "    image = image.convert('RGB')\n",
        "    transform = transforms.Compose (\n",
        "          [transforms.Resize((224, 224)),  \n",
        "           transforms.ToTensor(),\n",
        "           transforms.Normalize (mean=[0.485, 0.456, 0.406],\n",
        "                                  std=[0.229, 0.224, 0.225])]\n",
        "           )\n",
        "    img = transform (image)\n",
        "    images.append(img)\n",
        "  return images"
      ],
      "execution_count": null,
      "outputs": []
    },
    {
      "cell_type": "code",
      "metadata": {
        "colab": {
          "base_uri": "https://localhost:8080/"
        },
        "id": "XFpXBh1RiUEI",
        "outputId": "fd6a57a9-195b-453a-dd51-18a07914200a"
      },
      "source": [
        "path1 = os.path.join(path, 'normal_images_kaggle_500')\n",
        "normal_images = preprocessing(path1)"
      ],
      "execution_count": null,
      "outputs": [
        {
          "output_type": "stream",
          "text": [
            "500\n"
          ],
          "name": "stdout"
        }
      ]
    },
    {
      "cell_type": "code",
      "metadata": {
        "colab": {
          "base_uri": "https://localhost:8080/"
        },
        "id": "g-5l2sLrc_ht",
        "outputId": "7d5a946c-f81e-4d10-8b26-4a6cb7a56e39"
      },
      "source": [
        "normal_images = normal_images + preprocessing('/content/drive/MyDrive/OELP Kaggle/NORMAL')"
      ],
      "execution_count": null,
      "outputs": [
        {
          "output_type": "stream",
          "text": [
            "317\n"
          ],
          "name": "stdout"
        }
      ]
    },
    {
      "cell_type": "code",
      "metadata": {
        "colab": {
          "base_uri": "https://localhost:8080/"
        },
        "id": "vHEfpdLdo97m",
        "outputId": "8a2b612a-1a33-4705-bb5c-652c847b7ccf"
      },
      "source": [
        "path1 = os.path.join(path, 'pneumonia_images_kaggle_500')\n",
        "pneumonia_images = preprocessing(path1)"
      ],
      "execution_count": null,
      "outputs": [
        {
          "output_type": "stream",
          "text": [
            "500\n"
          ],
          "name": "stdout"
        }
      ]
    },
    {
      "cell_type": "code",
      "metadata": {
        "colab": {
          "base_uri": "https://localhost:8080/"
        },
        "id": "P-cE1GGldWf3",
        "outputId": "84aa38b4-fcbe-4d2f-828a-df91339c502d"
      },
      "source": [
        "pneumonia_images = pneumonia_images + preprocessing('/content/drive/MyDrive/OELP Kaggle/PNEUMONIA')"
      ],
      "execution_count": null,
      "outputs": [
        {
          "output_type": "stream",
          "text": [
            "855\n"
          ],
          "name": "stdout"
        }
      ]
    },
    {
      "cell_type": "code",
      "metadata": {
        "colab": {
          "base_uri": "https://localhost:8080/"
        },
        "id": "Tp2ep-cmrcrg",
        "outputId": "a3b62144-6244-4996-fdf0-d96d32b326f0"
      },
      "source": [
        "path1 = os.path.join(path, 'covid19_images_agchung_55')\n",
        "covid_19_images = preprocessing(path1)"
      ],
      "execution_count": null,
      "outputs": [
        {
          "output_type": "stream",
          "text": [
            "55\n"
          ],
          "name": "stdout"
        }
      ]
    },
    {
      "cell_type": "code",
      "metadata": {
        "colab": {
          "base_uri": "https://localhost:8080/"
        },
        "id": "5qE17rBFta4i",
        "outputId": "4c7a7712-b56b-4038-e2de-214470b2cb2e"
      },
      "source": [
        "path1 = os.path.join(path, 'covid19_images_cohen_192')\n",
        "covid_19_images = covid_19_images + preprocessing(path1)"
      ],
      "execution_count": null,
      "outputs": [
        {
          "output_type": "stream",
          "text": [
            "191\n"
          ],
          "name": "stdout"
        }
      ]
    },
    {
      "cell_type": "code",
      "metadata": {
        "colab": {
          "base_uri": "https://localhost:8080/"
        },
        "id": "0EGleLhatb2b",
        "outputId": "7100e6ac-544d-49a7-ec3e-56c7f6739e88"
      },
      "source": [
        "path1 = os.path.join(path, 'covid19_images_kaggle_203')\n",
        "covid_19_images = covid_19_images + preprocessing(path1)"
      ],
      "execution_count": null,
      "outputs": [
        {
          "output_type": "stream",
          "text": [
            "203\n"
          ],
          "name": "stdout"
        }
      ]
    },
    {
      "cell_type": "code",
      "metadata": {
        "colab": {
          "base_uri": "https://localhost:8080/"
        },
        "id": "ZooPOkgDdcN9",
        "outputId": "261d554d-599c-42c4-c2aa-bae6bbe6e759"
      },
      "source": [
        "covid_19_images = covid_19_images + preprocessing('/content/drive/MyDrive/OELP Kaggle/COVID19')"
      ],
      "execution_count": null,
      "outputs": [
        {
          "output_type": "stream",
          "text": [
            "116\n"
          ],
          "name": "stdout"
        }
      ]
    },
    {
      "cell_type": "code",
      "metadata": {
        "colab": {
          "base_uri": "https://localhost:8080/"
        },
        "id": "IweYOZnkibSq",
        "outputId": "1eeb469c-9469-4799-9d0c-384e41cda777"
      },
      "source": [
        "path1 = os.path.join('/content/drive/MyDrive/OELP/test_images', 'covid_19')\n",
        "covid_19_test_images = preprocessing(path1)"
      ],
      "execution_count": null,
      "outputs": [
        {
          "output_type": "stream",
          "text": [
            "50\n"
          ],
          "name": "stdout"
        }
      ]
    },
    {
      "cell_type": "code",
      "metadata": {
        "colab": {
          "base_uri": "https://localhost:8080/"
        },
        "id": "FsjlkfBNmDop",
        "outputId": "a35c50c4-8bb4-463c-abc9-af3d7deb0354"
      },
      "source": [
        "path1 = os.path.join('/content/drive/MyDrive/OELP/test_images', 'normal')\n",
        "normal_test_images = preprocessing(path1)"
      ],
      "execution_count": null,
      "outputs": [
        {
          "output_type": "stream",
          "text": [
            "85\n"
          ],
          "name": "stdout"
        }
      ]
    },
    {
      "cell_type": "code",
      "metadata": {
        "colab": {
          "base_uri": "https://localhost:8080/"
        },
        "id": "VjLOSQTpmNsW",
        "outputId": "e2c359d6-9aad-48e6-a64d-2d93e596e04c"
      },
      "source": [
        "path1 = os.path.join('/content/drive/MyDrive/OELP/test_images', 'pneumonia')\n",
        "pneumonia_test_images = preprocessing(path1)"
      ],
      "execution_count": null,
      "outputs": [
        {
          "output_type": "stream",
          "text": [
            "85\n"
          ],
          "name": "stdout"
        }
      ]
    },
    {
      "cell_type": "code",
      "metadata": {
        "id": "xQV1nllgmPFe"
      },
      "source": [
        "covid_19_images = covid_19_images + covid_19_test_images\n",
        "normal_images = normal_images + normal_test_images\n",
        "pneumonia_images = pneumonia_images + pneumonia_test_images"
      ],
      "execution_count": null,
      "outputs": []
    },
    {
      "cell_type": "code",
      "metadata": {
        "colab": {
          "base_uri": "https://localhost:8080/"
        },
        "id": "VZ9pjTzOm3kG",
        "outputId": "ba797812-6e92-4e59-ed32-945a10200928"
      },
      "source": [
        "len(covid_19_images)   #total number of Covid_19 images in the dataset"
      ],
      "execution_count": null,
      "outputs": [
        {
          "output_type": "execute_result",
          "data": {
            "text/plain": [
              "615"
            ]
          },
          "metadata": {
            "tags": []
          },
          "execution_count": 18
        }
      ]
    },
    {
      "cell_type": "code",
      "metadata": {
        "colab": {
          "base_uri": "https://localhost:8080/"
        },
        "id": "vFfxpeoam6hH",
        "outputId": "bf30c120-689f-483e-8ae2-8889dabb2aaf"
      },
      "source": [
        "len(normal_images)     #total number of Normal/Healthy images in the dataset"
      ],
      "execution_count": null,
      "outputs": [
        {
          "output_type": "execute_result",
          "data": {
            "text/plain": [
              "902"
            ]
          },
          "metadata": {
            "tags": []
          },
          "execution_count": 19
        }
      ]
    },
    {
      "cell_type": "code",
      "metadata": {
        "colab": {
          "base_uri": "https://localhost:8080/"
        },
        "id": "4czEVDCjm6r1",
        "outputId": "c460649a-51ce-4db5-a965-0d4e86cbf898"
      },
      "source": [
        "len(pneumonia_images)  #total number of Pneumonia images in the dataset"
      ],
      "execution_count": null,
      "outputs": [
        {
          "output_type": "execute_result",
          "data": {
            "text/plain": [
              "1440"
            ]
          },
          "metadata": {
            "tags": []
          },
          "execution_count": 20
        }
      ]
    },
    {
      "cell_type": "markdown",
      "metadata": {
        "id": "9rCTF66gS1tR"
      },
      "source": [
        "**Image augmentation**\n",
        "\n",
        "* Normal images - 200\n",
        "\n",
        "* Pneumonia images - 200\n",
        "\n",
        "* Covid_19 images - 200\n"
      ]
    },
    {
      "cell_type": "code",
      "metadata": {
        "id": "Ea3w_AP6d4jQ"
      },
      "source": [
        "import random\n",
        "\n",
        "def augmentation(path,K):\n",
        "  filelist = sorted(glob.glob(os.path.join(path, '*.jpg')))\n",
        "  random_list = random.choices(filelist, k=K)\n",
        "  print(len(random_list))\n",
        "  images = []\n",
        "  for file in random_list:\n",
        "    image = Image.open(file)\n",
        "    transform = transforms.Compose (\n",
        "          [transforms.Resize((224, 224)),\n",
        "           transforms.RandomRotation(15),\n",
        "           transforms.GaussianBlur(5, sigma=(0.1,2.0)),\n",
        "           transforms.ToTensor()\n",
        "           \n",
        "          ])\n",
        "    img = transform (image)\n",
        "    images.append(img)\n",
        "  return images"
      ],
      "execution_count": null,
      "outputs": []
    },
    {
      "cell_type": "code",
      "metadata": {
        "colab": {
          "base_uri": "https://localhost:8080/"
        },
        "id": "8bjnC_Xqd8aQ",
        "outputId": "cf1c8b02-9a62-4aec-9642-c11eebda889b"
      },
      "source": [
        "path1 = os.path.join(path, 'normal_images_kaggle_500')\n",
        "normal_aug_images = augmentation(path1,200)"
      ],
      "execution_count": null,
      "outputs": [
        {
          "output_type": "stream",
          "text": [
            "200\n"
          ],
          "name": "stdout"
        }
      ]
    },
    {
      "cell_type": "code",
      "metadata": {
        "colab": {
          "base_uri": "https://localhost:8080/"
        },
        "id": "MQqZorFjd9Dl",
        "outputId": "039924e1-c31f-48f5-eae5-5d3deeec080c"
      },
      "source": [
        "path1 = os.path.join(path, 'pneumonia_images_kaggle_500')\n",
        "pneumonia_aug_images = augmentation(path1,200)"
      ],
      "execution_count": null,
      "outputs": [
        {
          "output_type": "stream",
          "text": [
            "200\n"
          ],
          "name": "stdout"
        }
      ]
    },
    {
      "cell_type": "code",
      "metadata": {
        "colab": {
          "base_uri": "https://localhost:8080/"
        },
        "id": "eK07IZDCd_7I",
        "outputId": "4fcb2a08-0c32-41ae-9e92-e93ba771bf00"
      },
      "source": [
        "path1 = os.path.join(path, 'covid19_images_kaggle_203')\n",
        "covid_19_aug_images = augmentation(path1,200)"
      ],
      "execution_count": null,
      "outputs": [
        {
          "output_type": "stream",
          "text": [
            "200\n"
          ],
          "name": "stdout"
        }
      ]
    },
    {
      "cell_type": "code",
      "metadata": {
        "id": "2XEYU9sieFJ7"
      },
      "source": [
        "covid_19_images = covid_19_images + covid_19_aug_images\n",
        "normal_images = normal_images + normal_aug_images\n",
        "pneumonia_images = pneumonia_images + pneumonia_aug_images"
      ],
      "execution_count": null,
      "outputs": []
    },
    {
      "cell_type": "code",
      "metadata": {
        "id": "V4gl7v9ieHfL"
      },
      "source": [
        "images = covid_19_images + normal_images + pneumonia_images"
      ],
      "execution_count": null,
      "outputs": []
    },
    {
      "cell_type": "code",
      "metadata": {
        "colab": {
          "base_uri": "https://localhost:8080/"
        },
        "id": "_2Dl9q8AeVsL",
        "outputId": "b8c7e65c-a85e-479d-ddda-22edcd23e6f0"
      },
      "source": [
        "len(images)  #total number of images after augmentation"
      ],
      "execution_count": null,
      "outputs": [
        {
          "output_type": "execute_result",
          "data": {
            "text/plain": [
              "3557"
            ]
          },
          "metadata": {
            "tags": []
          },
          "execution_count": 27
        }
      ]
    },
    {
      "cell_type": "code",
      "metadata": {
        "colab": {
          "base_uri": "https://localhost:8080/"
        },
        "id": "pMC70yqOnAT-",
        "outputId": "cc5ad2b6-754e-47cd-9e19-a8b9b7a9d18e"
      },
      "source": [
        "images = np.stack (images,axis = 0)\n",
        "images = np.reshape (np.stack(images, axis = 0), (3557,224,224,3))\n",
        "images.shape"
      ],
      "execution_count": null,
      "outputs": [
        {
          "output_type": "execute_result",
          "data": {
            "text/plain": [
              "(3557, 224, 224, 3)"
            ]
          },
          "metadata": {
            "tags": []
          },
          "execution_count": 28
        }
      ]
    },
    {
      "cell_type": "markdown",
      "metadata": {
        "id": "zpa9AK6gTPg9"
      },
      "source": [
        "**Assigning Labels For each class**\n",
        "\n",
        "* Normal - 0\n",
        "* Pneumonia -1\n",
        "* Covid - 2"
      ]
    },
    {
      "cell_type": "code",
      "metadata": {
        "id": "TXaXpPGTnIwm"
      },
      "source": [
        "normal_labels = []\n",
        "for i in range(len(normal_images)):\n",
        "  normal_labels.append(0)\n",
        "  \n",
        "pneumonia_labels = []\n",
        "for i in range(len(pneumonia_images)):\n",
        "  pneumonia_labels.append(1)\n",
        "\n",
        "covid_labels = []\n",
        "for i in range(len(covid_19_images)):\n",
        "  covid_labels.append(2)"
      ],
      "execution_count": null,
      "outputs": []
    },
    {
      "cell_type": "code",
      "metadata": {
        "id": "dftPgEk7nOud"
      },
      "source": [
        "labels = covid_labels + normal_labels + pneumonia_labels\n",
        "labels = np.reshape (np.stack(labels, axis = 0), (3557,1))"
      ],
      "execution_count": null,
      "outputs": []
    },
    {
      "cell_type": "code",
      "metadata": {
        "colab": {
          "base_uri": "https://localhost:8080/"
        },
        "id": "MFBuIC20nSDW",
        "outputId": "bdd32f0e-487e-4184-c8a8-bc535b79cb4b"
      },
      "source": [
        "labels.shape"
      ],
      "execution_count": null,
      "outputs": [
        {
          "output_type": "execute_result",
          "data": {
            "text/plain": [
              "(3557, 1)"
            ]
          },
          "metadata": {
            "tags": []
          },
          "execution_count": 31
        }
      ]
    },
    {
      "cell_type": "markdown",
      "metadata": {
        "id": "uRN_IAedTjR3"
      },
      "source": [
        "**Splitting the dataset into train,validation and test sets**"
      ]
    },
    {
      "cell_type": "code",
      "metadata": {
        "id": "J_aVZexJnsOO"
      },
      "source": [
        "from sklearn.model_selection import train_test_split\n",
        "train_images, rem_images, train_labels, rem_labels = train_test_split(images, labels, test_size=0.2, random_state=42) \n",
        "val_images, test_images, val_labels, test_labels = train_test_split(rem_images, rem_labels, test_size=0.5, random_state=42) "
      ],
      "execution_count": null,
      "outputs": []
    },
    {
      "cell_type": "code",
      "metadata": {
        "colab": {
          "base_uri": "https://localhost:8080/"
        },
        "id": "PI-F4xbZoZ22",
        "outputId": "5b8260e0-8322-4b2a-cceb-eb0ea2afbbf8"
      },
      "source": [
        "train_images.shape, train_labels.shape"
      ],
      "execution_count": null,
      "outputs": [
        {
          "output_type": "execute_result",
          "data": {
            "text/plain": [
              "((2845, 224, 224, 3), (2845, 1))"
            ]
          },
          "metadata": {
            "tags": []
          },
          "execution_count": 43
        }
      ]
    },
    {
      "cell_type": "code",
      "metadata": {
        "colab": {
          "base_uri": "https://localhost:8080/"
        },
        "id": "MxgFX-O7oa2_",
        "outputId": "d8fb3d13-e839-4597-af1e-05b653ccb655"
      },
      "source": [
        "val_images.shape, val_labels.shape"
      ],
      "execution_count": null,
      "outputs": [
        {
          "output_type": "execute_result",
          "data": {
            "text/plain": [
              "((356, 224, 224, 3), (356, 1))"
            ]
          },
          "metadata": {
            "tags": []
          },
          "execution_count": 44
        }
      ]
    },
    {
      "cell_type": "code",
      "metadata": {
        "colab": {
          "base_uri": "https://localhost:8080/"
        },
        "id": "gBrmN87Moa5r",
        "outputId": "22c6d0da-a725-4984-f499-5bcd4283d0ec"
      },
      "source": [
        "test_images.shape, test_labels.shape"
      ],
      "execution_count": null,
      "outputs": [
        {
          "output_type": "execute_result",
          "data": {
            "text/plain": [
              "((356, 224, 224, 3), (356, 1))"
            ]
          },
          "metadata": {
            "tags": []
          },
          "execution_count": 30
        }
      ]
    },
    {
      "cell_type": "markdown",
      "metadata": {
        "id": "B4VR1xos6A0y"
      },
      "source": [
        "**Function to plot training and validation accuracies**"
      ]
    },
    {
      "cell_type": "code",
      "metadata": {
        "id": "zsBiF35Z6K1i"
      },
      "source": [
        "import matplotlib.pyplot as plt\n",
        "\n",
        "def plot(network_history):\n",
        "    plt.figure()\n",
        "    plt.xlabel('Epochs')\n",
        "    plt.ylabel('Loss')\n",
        "    plt.plot(network_history.history['loss'])\n",
        "    plt.plot(network_history.history['val_loss'])\n",
        "    plt.legend(['Training', 'Validation'])\n",
        "\n",
        "    plt.figure()\n",
        "    plt.xlabel('Epochs')\n",
        "    plt.ylabel('Accuracy')\n",
        "    plt.plot(network_history.history['accuracy'])\n",
        "    plt.plot(network_history.history['val_accuracy'])\n",
        "    plt.legend(['Training', 'Validation'], loc='lower right')"
      ],
      "execution_count": null,
      "outputs": []
    },
    {
      "cell_type": "markdown",
      "metadata": {
        "id": "A4PEIqngNVAg"
      },
      "source": [
        "**Evaluation Metrices**"
      ]
    },
    {
      "cell_type": "code",
      "metadata": {
        "id": "3YWwWAlLNpD8"
      },
      "source": [
        "# Confusion Matrix\n",
        "from sklearn.metrics import confusion_matrix\n",
        "\n",
        "# Accuracy\n",
        "from sklearn.metrics import accuracy_score\n",
        "\n",
        "# Recall\n",
        "from sklearn.metrics import recall_score\n",
        "\n",
        "# Precision\n",
        "from sklearn.metrics import precision_score\n",
        "\n",
        "# F1 score\n",
        "from sklearn.metrics import f1_score\n",
        "\n",
        "#ROC curve\n",
        "from sklearn.metrics import roc_curve,auc"
      ],
      "execution_count": null,
      "outputs": []
    },
    {
      "cell_type": "code",
      "metadata": {
        "id": "YXIuyancNYru"
      },
      "source": [
        "def ROC(test_labels,preds):\n",
        "      for i in range(3):\n",
        "        fpr, tpr, thresholds = roc_curve(test_labels, preds, pos_label=i)\n",
        "        plt.figure()\n",
        "        plt.plot(fpr, tpr,label='ROC curve (area = %0.2f)' % auc(fpr,tpr))\n",
        "        plt.plot([0, 1], [0, 1], 'k--')\n",
        "        plt.xlim([0.0, 1.0])\n",
        "        plt.ylim([0.0, 1.05])\n",
        "        plt.xlabel('False Positive Rate')\n",
        "        plt.ylabel('True Positive Rate')\n",
        "        plt.title('Receiver operating characteristic example (Class %i)'%i)\n",
        "        plt.legend(loc=\"lower right\")\n",
        "        plt.show()"
      ],
      "execution_count": null,
      "outputs": []
    },
    {
      "cell_type": "code",
      "metadata": {
        "id": "-MvesDfQNjXg"
      },
      "source": [
        "def metrics(predicted_labels,test_labels):\n",
        "  preds=np.zeros(test_labels.shape)\n",
        "  for i in range(len(predicted_labels)):\n",
        "    preds[i]=np.argmax(predicted_labels[i])\n",
        "  cnf_matrix=confusion_matrix(test_labels, preds)\n",
        "  FP = cnf_matrix.sum(axis=0) - np.diag(cnf_matrix) \n",
        "  FN = cnf_matrix.sum(axis=1) - np.diag(cnf_matrix)\n",
        "  TP = np.diag(cnf_matrix)\n",
        "  TN = cnf_matrix.sum() - (FP + FN + TP)\n",
        "  print(\"Confusion Matrix \",cnf_matrix)\n",
        "  print()\n",
        "  print(\"Accuracy \",accuracy_score(test_labels, preds))\n",
        "  print()\n",
        "  print(\"Recall \",recall_score(test_labels, preds, average=None))\n",
        "  print()\n",
        "  print(\"Precision \",precision_score(test_labels, preds, average=None))\n",
        "  print()\n",
        "  print(\"F1-score \",f1_score(test_labels, preds, average=None))\n",
        "  print()\n",
        "  print(\"Specificity \",TN/(TN + FP))\n",
        "  ROC(test_labels,preds)"
      ],
      "execution_count": null,
      "outputs": []
    },
    {
      "cell_type": "markdown",
      "metadata": {
        "id": "IED-7Sy5TCwK"
      },
      "source": [
        "**Transfer learning with convolutional neural network**\n"
      ]
    },
    {
      "cell_type": "markdown",
      "metadata": {
        "id": "eNfyYtV1ef3J"
      },
      "source": [
        "## Resnet model"
      ]
    },
    {
      "cell_type": "code",
      "metadata": {
        "id": "Gh7PppLQohID"
      },
      "source": [
        "# %tensorflow_version 1.x\n",
        "import tensorflow.keras as K"
      ],
      "execution_count": null,
      "outputs": []
    },
    {
      "cell_type": "code",
      "metadata": {
        "colab": {
          "base_uri": "https://localhost:8080/"
        },
        "id": "iDUt3Z6PohML",
        "outputId": "a7600f0e-1d80-4fbd-cf4b-2383d951fc2d"
      },
      "source": [
        "input_t = K.Input(shape=(224,224,3))\n",
        "resnet_model = K.applications.ResNet50(\n",
        "    include_top = False,\n",
        "    weights = \"imagenet\",\n",
        "    input_tensor = input_t\n",
        ")"
      ],
      "execution_count": null,
      "outputs": [
        {
          "output_type": "stream",
          "text": [
            "Downloading data from https://storage.googleapis.com/tensorflow/keras-applications/resnet/resnet50_weights_tf_dim_ordering_tf_kernels_notop.h5\n",
            "94773248/94765736 [==============================] - 1s 0us/step\n"
          ],
          "name": "stdout"
        }
      ]
    },
    {
      "cell_type": "code",
      "metadata": {
        "colab": {
          "base_uri": "https://localhost:8080/"
        },
        "id": "rxP7Hv2GohTn",
        "outputId": "8a568327-b27e-440a-ee99-451cd8406bdc"
      },
      "source": [
        "resnet_model.summary()"
      ],
      "execution_count": null,
      "outputs": [
        {
          "output_type": "stream",
          "text": [
            "Model: \"resnet50\"\n",
            "__________________________________________________________________________________________________\n",
            "Layer (type)                    Output Shape         Param #     Connected to                     \n",
            "==================================================================================================\n",
            "input_1 (InputLayer)            [(None, 224, 224, 3) 0                                            \n",
            "__________________________________________________________________________________________________\n",
            "conv1_pad (ZeroPadding2D)       (None, 230, 230, 3)  0           input_1[0][0]                    \n",
            "__________________________________________________________________________________________________\n",
            "conv1_conv (Conv2D)             (None, 112, 112, 64) 9472        conv1_pad[0][0]                  \n",
            "__________________________________________________________________________________________________\n",
            "conv1_bn (BatchNormalization)   (None, 112, 112, 64) 256         conv1_conv[0][0]                 \n",
            "__________________________________________________________________________________________________\n",
            "conv1_relu (Activation)         (None, 112, 112, 64) 0           conv1_bn[0][0]                   \n",
            "__________________________________________________________________________________________________\n",
            "pool1_pad (ZeroPadding2D)       (None, 114, 114, 64) 0           conv1_relu[0][0]                 \n",
            "__________________________________________________________________________________________________\n",
            "pool1_pool (MaxPooling2D)       (None, 56, 56, 64)   0           pool1_pad[0][0]                  \n",
            "__________________________________________________________________________________________________\n",
            "conv2_block1_1_conv (Conv2D)    (None, 56, 56, 64)   4160        pool1_pool[0][0]                 \n",
            "__________________________________________________________________________________________________\n",
            "conv2_block1_1_bn (BatchNormali (None, 56, 56, 64)   256         conv2_block1_1_conv[0][0]        \n",
            "__________________________________________________________________________________________________\n",
            "conv2_block1_1_relu (Activation (None, 56, 56, 64)   0           conv2_block1_1_bn[0][0]          \n",
            "__________________________________________________________________________________________________\n",
            "conv2_block1_2_conv (Conv2D)    (None, 56, 56, 64)   36928       conv2_block1_1_relu[0][0]        \n",
            "__________________________________________________________________________________________________\n",
            "conv2_block1_2_bn (BatchNormali (None, 56, 56, 64)   256         conv2_block1_2_conv[0][0]        \n",
            "__________________________________________________________________________________________________\n",
            "conv2_block1_2_relu (Activation (None, 56, 56, 64)   0           conv2_block1_2_bn[0][0]          \n",
            "__________________________________________________________________________________________________\n",
            "conv2_block1_0_conv (Conv2D)    (None, 56, 56, 256)  16640       pool1_pool[0][0]                 \n",
            "__________________________________________________________________________________________________\n",
            "conv2_block1_3_conv (Conv2D)    (None, 56, 56, 256)  16640       conv2_block1_2_relu[0][0]        \n",
            "__________________________________________________________________________________________________\n",
            "conv2_block1_0_bn (BatchNormali (None, 56, 56, 256)  1024        conv2_block1_0_conv[0][0]        \n",
            "__________________________________________________________________________________________________\n",
            "conv2_block1_3_bn (BatchNormali (None, 56, 56, 256)  1024        conv2_block1_3_conv[0][0]        \n",
            "__________________________________________________________________________________________________\n",
            "conv2_block1_add (Add)          (None, 56, 56, 256)  0           conv2_block1_0_bn[0][0]          \n",
            "                                                                 conv2_block1_3_bn[0][0]          \n",
            "__________________________________________________________________________________________________\n",
            "conv2_block1_out (Activation)   (None, 56, 56, 256)  0           conv2_block1_add[0][0]           \n",
            "__________________________________________________________________________________________________\n",
            "conv2_block2_1_conv (Conv2D)    (None, 56, 56, 64)   16448       conv2_block1_out[0][0]           \n",
            "__________________________________________________________________________________________________\n",
            "conv2_block2_1_bn (BatchNormali (None, 56, 56, 64)   256         conv2_block2_1_conv[0][0]        \n",
            "__________________________________________________________________________________________________\n",
            "conv2_block2_1_relu (Activation (None, 56, 56, 64)   0           conv2_block2_1_bn[0][0]          \n",
            "__________________________________________________________________________________________________\n",
            "conv2_block2_2_conv (Conv2D)    (None, 56, 56, 64)   36928       conv2_block2_1_relu[0][0]        \n",
            "__________________________________________________________________________________________________\n",
            "conv2_block2_2_bn (BatchNormali (None, 56, 56, 64)   256         conv2_block2_2_conv[0][0]        \n",
            "__________________________________________________________________________________________________\n",
            "conv2_block2_2_relu (Activation (None, 56, 56, 64)   0           conv2_block2_2_bn[0][0]          \n",
            "__________________________________________________________________________________________________\n",
            "conv2_block2_3_conv (Conv2D)    (None, 56, 56, 256)  16640       conv2_block2_2_relu[0][0]        \n",
            "__________________________________________________________________________________________________\n",
            "conv2_block2_3_bn (BatchNormali (None, 56, 56, 256)  1024        conv2_block2_3_conv[0][0]        \n",
            "__________________________________________________________________________________________________\n",
            "conv2_block2_add (Add)          (None, 56, 56, 256)  0           conv2_block1_out[0][0]           \n",
            "                                                                 conv2_block2_3_bn[0][0]          \n",
            "__________________________________________________________________________________________________\n",
            "conv2_block2_out (Activation)   (None, 56, 56, 256)  0           conv2_block2_add[0][0]           \n",
            "__________________________________________________________________________________________________\n",
            "conv2_block3_1_conv (Conv2D)    (None, 56, 56, 64)   16448       conv2_block2_out[0][0]           \n",
            "__________________________________________________________________________________________________\n",
            "conv2_block3_1_bn (BatchNormali (None, 56, 56, 64)   256         conv2_block3_1_conv[0][0]        \n",
            "__________________________________________________________________________________________________\n",
            "conv2_block3_1_relu (Activation (None, 56, 56, 64)   0           conv2_block3_1_bn[0][0]          \n",
            "__________________________________________________________________________________________________\n",
            "conv2_block3_2_conv (Conv2D)    (None, 56, 56, 64)   36928       conv2_block3_1_relu[0][0]        \n",
            "__________________________________________________________________________________________________\n",
            "conv2_block3_2_bn (BatchNormali (None, 56, 56, 64)   256         conv2_block3_2_conv[0][0]        \n",
            "__________________________________________________________________________________________________\n",
            "conv2_block3_2_relu (Activation (None, 56, 56, 64)   0           conv2_block3_2_bn[0][0]          \n",
            "__________________________________________________________________________________________________\n",
            "conv2_block3_3_conv (Conv2D)    (None, 56, 56, 256)  16640       conv2_block3_2_relu[0][0]        \n",
            "__________________________________________________________________________________________________\n",
            "conv2_block3_3_bn (BatchNormali (None, 56, 56, 256)  1024        conv2_block3_3_conv[0][0]        \n",
            "__________________________________________________________________________________________________\n",
            "conv2_block3_add (Add)          (None, 56, 56, 256)  0           conv2_block2_out[0][0]           \n",
            "                                                                 conv2_block3_3_bn[0][0]          \n",
            "__________________________________________________________________________________________________\n",
            "conv2_block3_out (Activation)   (None, 56, 56, 256)  0           conv2_block3_add[0][0]           \n",
            "__________________________________________________________________________________________________\n",
            "conv3_block1_1_conv (Conv2D)    (None, 28, 28, 128)  32896       conv2_block3_out[0][0]           \n",
            "__________________________________________________________________________________________________\n",
            "conv3_block1_1_bn (BatchNormali (None, 28, 28, 128)  512         conv3_block1_1_conv[0][0]        \n",
            "__________________________________________________________________________________________________\n",
            "conv3_block1_1_relu (Activation (None, 28, 28, 128)  0           conv3_block1_1_bn[0][0]          \n",
            "__________________________________________________________________________________________________\n",
            "conv3_block1_2_conv (Conv2D)    (None, 28, 28, 128)  147584      conv3_block1_1_relu[0][0]        \n",
            "__________________________________________________________________________________________________\n",
            "conv3_block1_2_bn (BatchNormali (None, 28, 28, 128)  512         conv3_block1_2_conv[0][0]        \n",
            "__________________________________________________________________________________________________\n",
            "conv3_block1_2_relu (Activation (None, 28, 28, 128)  0           conv3_block1_2_bn[0][0]          \n",
            "__________________________________________________________________________________________________\n",
            "conv3_block1_0_conv (Conv2D)    (None, 28, 28, 512)  131584      conv2_block3_out[0][0]           \n",
            "__________________________________________________________________________________________________\n",
            "conv3_block1_3_conv (Conv2D)    (None, 28, 28, 512)  66048       conv3_block1_2_relu[0][0]        \n",
            "__________________________________________________________________________________________________\n",
            "conv3_block1_0_bn (BatchNormali (None, 28, 28, 512)  2048        conv3_block1_0_conv[0][0]        \n",
            "__________________________________________________________________________________________________\n",
            "conv3_block1_3_bn (BatchNormali (None, 28, 28, 512)  2048        conv3_block1_3_conv[0][0]        \n",
            "__________________________________________________________________________________________________\n",
            "conv3_block1_add (Add)          (None, 28, 28, 512)  0           conv3_block1_0_bn[0][0]          \n",
            "                                                                 conv3_block1_3_bn[0][0]          \n",
            "__________________________________________________________________________________________________\n",
            "conv3_block1_out (Activation)   (None, 28, 28, 512)  0           conv3_block1_add[0][0]           \n",
            "__________________________________________________________________________________________________\n",
            "conv3_block2_1_conv (Conv2D)    (None, 28, 28, 128)  65664       conv3_block1_out[0][0]           \n",
            "__________________________________________________________________________________________________\n",
            "conv3_block2_1_bn (BatchNormali (None, 28, 28, 128)  512         conv3_block2_1_conv[0][0]        \n",
            "__________________________________________________________________________________________________\n",
            "conv3_block2_1_relu (Activation (None, 28, 28, 128)  0           conv3_block2_1_bn[0][0]          \n",
            "__________________________________________________________________________________________________\n",
            "conv3_block2_2_conv (Conv2D)    (None, 28, 28, 128)  147584      conv3_block2_1_relu[0][0]        \n",
            "__________________________________________________________________________________________________\n",
            "conv3_block2_2_bn (BatchNormali (None, 28, 28, 128)  512         conv3_block2_2_conv[0][0]        \n",
            "__________________________________________________________________________________________________\n",
            "conv3_block2_2_relu (Activation (None, 28, 28, 128)  0           conv3_block2_2_bn[0][0]          \n",
            "__________________________________________________________________________________________________\n",
            "conv3_block2_3_conv (Conv2D)    (None, 28, 28, 512)  66048       conv3_block2_2_relu[0][0]        \n",
            "__________________________________________________________________________________________________\n",
            "conv3_block2_3_bn (BatchNormali (None, 28, 28, 512)  2048        conv3_block2_3_conv[0][0]        \n",
            "__________________________________________________________________________________________________\n",
            "conv3_block2_add (Add)          (None, 28, 28, 512)  0           conv3_block1_out[0][0]           \n",
            "                                                                 conv3_block2_3_bn[0][0]          \n",
            "__________________________________________________________________________________________________\n",
            "conv3_block2_out (Activation)   (None, 28, 28, 512)  0           conv3_block2_add[0][0]           \n",
            "__________________________________________________________________________________________________\n",
            "conv3_block3_1_conv (Conv2D)    (None, 28, 28, 128)  65664       conv3_block2_out[0][0]           \n",
            "__________________________________________________________________________________________________\n",
            "conv3_block3_1_bn (BatchNormali (None, 28, 28, 128)  512         conv3_block3_1_conv[0][0]        \n",
            "__________________________________________________________________________________________________\n",
            "conv3_block3_1_relu (Activation (None, 28, 28, 128)  0           conv3_block3_1_bn[0][0]          \n",
            "__________________________________________________________________________________________________\n",
            "conv3_block3_2_conv (Conv2D)    (None, 28, 28, 128)  147584      conv3_block3_1_relu[0][0]        \n",
            "__________________________________________________________________________________________________\n",
            "conv3_block3_2_bn (BatchNormali (None, 28, 28, 128)  512         conv3_block3_2_conv[0][0]        \n",
            "__________________________________________________________________________________________________\n",
            "conv3_block3_2_relu (Activation (None, 28, 28, 128)  0           conv3_block3_2_bn[0][0]          \n",
            "__________________________________________________________________________________________________\n",
            "conv3_block3_3_conv (Conv2D)    (None, 28, 28, 512)  66048       conv3_block3_2_relu[0][0]        \n",
            "__________________________________________________________________________________________________\n",
            "conv3_block3_3_bn (BatchNormali (None, 28, 28, 512)  2048        conv3_block3_3_conv[0][0]        \n",
            "__________________________________________________________________________________________________\n",
            "conv3_block3_add (Add)          (None, 28, 28, 512)  0           conv3_block2_out[0][0]           \n",
            "                                                                 conv3_block3_3_bn[0][0]          \n",
            "__________________________________________________________________________________________________\n",
            "conv3_block3_out (Activation)   (None, 28, 28, 512)  0           conv3_block3_add[0][0]           \n",
            "__________________________________________________________________________________________________\n",
            "conv3_block4_1_conv (Conv2D)    (None, 28, 28, 128)  65664       conv3_block3_out[0][0]           \n",
            "__________________________________________________________________________________________________\n",
            "conv3_block4_1_bn (BatchNormali (None, 28, 28, 128)  512         conv3_block4_1_conv[0][0]        \n",
            "__________________________________________________________________________________________________\n",
            "conv3_block4_1_relu (Activation (None, 28, 28, 128)  0           conv3_block4_1_bn[0][0]          \n",
            "__________________________________________________________________________________________________\n",
            "conv3_block4_2_conv (Conv2D)    (None, 28, 28, 128)  147584      conv3_block4_1_relu[0][0]        \n",
            "__________________________________________________________________________________________________\n",
            "conv3_block4_2_bn (BatchNormali (None, 28, 28, 128)  512         conv3_block4_2_conv[0][0]        \n",
            "__________________________________________________________________________________________________\n",
            "conv3_block4_2_relu (Activation (None, 28, 28, 128)  0           conv3_block4_2_bn[0][0]          \n",
            "__________________________________________________________________________________________________\n",
            "conv3_block4_3_conv (Conv2D)    (None, 28, 28, 512)  66048       conv3_block4_2_relu[0][0]        \n",
            "__________________________________________________________________________________________________\n",
            "conv3_block4_3_bn (BatchNormali (None, 28, 28, 512)  2048        conv3_block4_3_conv[0][0]        \n",
            "__________________________________________________________________________________________________\n",
            "conv3_block4_add (Add)          (None, 28, 28, 512)  0           conv3_block3_out[0][0]           \n",
            "                                                                 conv3_block4_3_bn[0][0]          \n",
            "__________________________________________________________________________________________________\n",
            "conv3_block4_out (Activation)   (None, 28, 28, 512)  0           conv3_block4_add[0][0]           \n",
            "__________________________________________________________________________________________________\n",
            "conv4_block1_1_conv (Conv2D)    (None, 14, 14, 256)  131328      conv3_block4_out[0][0]           \n",
            "__________________________________________________________________________________________________\n",
            "conv4_block1_1_bn (BatchNormali (None, 14, 14, 256)  1024        conv4_block1_1_conv[0][0]        \n",
            "__________________________________________________________________________________________________\n",
            "conv4_block1_1_relu (Activation (None, 14, 14, 256)  0           conv4_block1_1_bn[0][0]          \n",
            "__________________________________________________________________________________________________\n",
            "conv4_block1_2_conv (Conv2D)    (None, 14, 14, 256)  590080      conv4_block1_1_relu[0][0]        \n",
            "__________________________________________________________________________________________________\n",
            "conv4_block1_2_bn (BatchNormali (None, 14, 14, 256)  1024        conv4_block1_2_conv[0][0]        \n",
            "__________________________________________________________________________________________________\n",
            "conv4_block1_2_relu (Activation (None, 14, 14, 256)  0           conv4_block1_2_bn[0][0]          \n",
            "__________________________________________________________________________________________________\n",
            "conv4_block1_0_conv (Conv2D)    (None, 14, 14, 1024) 525312      conv3_block4_out[0][0]           \n",
            "__________________________________________________________________________________________________\n",
            "conv4_block1_3_conv (Conv2D)    (None, 14, 14, 1024) 263168      conv4_block1_2_relu[0][0]        \n",
            "__________________________________________________________________________________________________\n",
            "conv4_block1_0_bn (BatchNormali (None, 14, 14, 1024) 4096        conv4_block1_0_conv[0][0]        \n",
            "__________________________________________________________________________________________________\n",
            "conv4_block1_3_bn (BatchNormali (None, 14, 14, 1024) 4096        conv4_block1_3_conv[0][0]        \n",
            "__________________________________________________________________________________________________\n",
            "conv4_block1_add (Add)          (None, 14, 14, 1024) 0           conv4_block1_0_bn[0][0]          \n",
            "                                                                 conv4_block1_3_bn[0][0]          \n",
            "__________________________________________________________________________________________________\n",
            "conv4_block1_out (Activation)   (None, 14, 14, 1024) 0           conv4_block1_add[0][0]           \n",
            "__________________________________________________________________________________________________\n",
            "conv4_block2_1_conv (Conv2D)    (None, 14, 14, 256)  262400      conv4_block1_out[0][0]           \n",
            "__________________________________________________________________________________________________\n",
            "conv4_block2_1_bn (BatchNormali (None, 14, 14, 256)  1024        conv4_block2_1_conv[0][0]        \n",
            "__________________________________________________________________________________________________\n",
            "conv4_block2_1_relu (Activation (None, 14, 14, 256)  0           conv4_block2_1_bn[0][0]          \n",
            "__________________________________________________________________________________________________\n",
            "conv4_block2_2_conv (Conv2D)    (None, 14, 14, 256)  590080      conv4_block2_1_relu[0][0]        \n",
            "__________________________________________________________________________________________________\n",
            "conv4_block2_2_bn (BatchNormali (None, 14, 14, 256)  1024        conv4_block2_2_conv[0][0]        \n",
            "__________________________________________________________________________________________________\n",
            "conv4_block2_2_relu (Activation (None, 14, 14, 256)  0           conv4_block2_2_bn[0][0]          \n",
            "__________________________________________________________________________________________________\n",
            "conv4_block2_3_conv (Conv2D)    (None, 14, 14, 1024) 263168      conv4_block2_2_relu[0][0]        \n",
            "__________________________________________________________________________________________________\n",
            "conv4_block2_3_bn (BatchNormali (None, 14, 14, 1024) 4096        conv4_block2_3_conv[0][0]        \n",
            "__________________________________________________________________________________________________\n",
            "conv4_block2_add (Add)          (None, 14, 14, 1024) 0           conv4_block1_out[0][0]           \n",
            "                                                                 conv4_block2_3_bn[0][0]          \n",
            "__________________________________________________________________________________________________\n",
            "conv4_block2_out (Activation)   (None, 14, 14, 1024) 0           conv4_block2_add[0][0]           \n",
            "__________________________________________________________________________________________________\n",
            "conv4_block3_1_conv (Conv2D)    (None, 14, 14, 256)  262400      conv4_block2_out[0][0]           \n",
            "__________________________________________________________________________________________________\n",
            "conv4_block3_1_bn (BatchNormali (None, 14, 14, 256)  1024        conv4_block3_1_conv[0][0]        \n",
            "__________________________________________________________________________________________________\n",
            "conv4_block3_1_relu (Activation (None, 14, 14, 256)  0           conv4_block3_1_bn[0][0]          \n",
            "__________________________________________________________________________________________________\n",
            "conv4_block3_2_conv (Conv2D)    (None, 14, 14, 256)  590080      conv4_block3_1_relu[0][0]        \n",
            "__________________________________________________________________________________________________\n",
            "conv4_block3_2_bn (BatchNormali (None, 14, 14, 256)  1024        conv4_block3_2_conv[0][0]        \n",
            "__________________________________________________________________________________________________\n",
            "conv4_block3_2_relu (Activation (None, 14, 14, 256)  0           conv4_block3_2_bn[0][0]          \n",
            "__________________________________________________________________________________________________\n",
            "conv4_block3_3_conv (Conv2D)    (None, 14, 14, 1024) 263168      conv4_block3_2_relu[0][0]        \n",
            "__________________________________________________________________________________________________\n",
            "conv4_block3_3_bn (BatchNormali (None, 14, 14, 1024) 4096        conv4_block3_3_conv[0][0]        \n",
            "__________________________________________________________________________________________________\n",
            "conv4_block3_add (Add)          (None, 14, 14, 1024) 0           conv4_block2_out[0][0]           \n",
            "                                                                 conv4_block3_3_bn[0][0]          \n",
            "__________________________________________________________________________________________________\n",
            "conv4_block3_out (Activation)   (None, 14, 14, 1024) 0           conv4_block3_add[0][0]           \n",
            "__________________________________________________________________________________________________\n",
            "conv4_block4_1_conv (Conv2D)    (None, 14, 14, 256)  262400      conv4_block3_out[0][0]           \n",
            "__________________________________________________________________________________________________\n",
            "conv4_block4_1_bn (BatchNormali (None, 14, 14, 256)  1024        conv4_block4_1_conv[0][0]        \n",
            "__________________________________________________________________________________________________\n",
            "conv4_block4_1_relu (Activation (None, 14, 14, 256)  0           conv4_block4_1_bn[0][0]          \n",
            "__________________________________________________________________________________________________\n",
            "conv4_block4_2_conv (Conv2D)    (None, 14, 14, 256)  590080      conv4_block4_1_relu[0][0]        \n",
            "__________________________________________________________________________________________________\n",
            "conv4_block4_2_bn (BatchNormali (None, 14, 14, 256)  1024        conv4_block4_2_conv[0][0]        \n",
            "__________________________________________________________________________________________________\n",
            "conv4_block4_2_relu (Activation (None, 14, 14, 256)  0           conv4_block4_2_bn[0][0]          \n",
            "__________________________________________________________________________________________________\n",
            "conv4_block4_3_conv (Conv2D)    (None, 14, 14, 1024) 263168      conv4_block4_2_relu[0][0]        \n",
            "__________________________________________________________________________________________________\n",
            "conv4_block4_3_bn (BatchNormali (None, 14, 14, 1024) 4096        conv4_block4_3_conv[0][0]        \n",
            "__________________________________________________________________________________________________\n",
            "conv4_block4_add (Add)          (None, 14, 14, 1024) 0           conv4_block3_out[0][0]           \n",
            "                                                                 conv4_block4_3_bn[0][0]          \n",
            "__________________________________________________________________________________________________\n",
            "conv4_block4_out (Activation)   (None, 14, 14, 1024) 0           conv4_block4_add[0][0]           \n",
            "__________________________________________________________________________________________________\n",
            "conv4_block5_1_conv (Conv2D)    (None, 14, 14, 256)  262400      conv4_block4_out[0][0]           \n",
            "__________________________________________________________________________________________________\n",
            "conv4_block5_1_bn (BatchNormali (None, 14, 14, 256)  1024        conv4_block5_1_conv[0][0]        \n",
            "__________________________________________________________________________________________________\n",
            "conv4_block5_1_relu (Activation (None, 14, 14, 256)  0           conv4_block5_1_bn[0][0]          \n",
            "__________________________________________________________________________________________________\n",
            "conv4_block5_2_conv (Conv2D)    (None, 14, 14, 256)  590080      conv4_block5_1_relu[0][0]        \n",
            "__________________________________________________________________________________________________\n",
            "conv4_block5_2_bn (BatchNormali (None, 14, 14, 256)  1024        conv4_block5_2_conv[0][0]        \n",
            "__________________________________________________________________________________________________\n",
            "conv4_block5_2_relu (Activation (None, 14, 14, 256)  0           conv4_block5_2_bn[0][0]          \n",
            "__________________________________________________________________________________________________\n",
            "conv4_block5_3_conv (Conv2D)    (None, 14, 14, 1024) 263168      conv4_block5_2_relu[0][0]        \n",
            "__________________________________________________________________________________________________\n",
            "conv4_block5_3_bn (BatchNormali (None, 14, 14, 1024) 4096        conv4_block5_3_conv[0][0]        \n",
            "__________________________________________________________________________________________________\n",
            "conv4_block5_add (Add)          (None, 14, 14, 1024) 0           conv4_block4_out[0][0]           \n",
            "                                                                 conv4_block5_3_bn[0][0]          \n",
            "__________________________________________________________________________________________________\n",
            "conv4_block5_out (Activation)   (None, 14, 14, 1024) 0           conv4_block5_add[0][0]           \n",
            "__________________________________________________________________________________________________\n",
            "conv4_block6_1_conv (Conv2D)    (None, 14, 14, 256)  262400      conv4_block5_out[0][0]           \n",
            "__________________________________________________________________________________________________\n",
            "conv4_block6_1_bn (BatchNormali (None, 14, 14, 256)  1024        conv4_block6_1_conv[0][0]        \n",
            "__________________________________________________________________________________________________\n",
            "conv4_block6_1_relu (Activation (None, 14, 14, 256)  0           conv4_block6_1_bn[0][0]          \n",
            "__________________________________________________________________________________________________\n",
            "conv4_block6_2_conv (Conv2D)    (None, 14, 14, 256)  590080      conv4_block6_1_relu[0][0]        \n",
            "__________________________________________________________________________________________________\n",
            "conv4_block6_2_bn (BatchNormali (None, 14, 14, 256)  1024        conv4_block6_2_conv[0][0]        \n",
            "__________________________________________________________________________________________________\n",
            "conv4_block6_2_relu (Activation (None, 14, 14, 256)  0           conv4_block6_2_bn[0][0]          \n",
            "__________________________________________________________________________________________________\n",
            "conv4_block6_3_conv (Conv2D)    (None, 14, 14, 1024) 263168      conv4_block6_2_relu[0][0]        \n",
            "__________________________________________________________________________________________________\n",
            "conv4_block6_3_bn (BatchNormali (None, 14, 14, 1024) 4096        conv4_block6_3_conv[0][0]        \n",
            "__________________________________________________________________________________________________\n",
            "conv4_block6_add (Add)          (None, 14, 14, 1024) 0           conv4_block5_out[0][0]           \n",
            "                                                                 conv4_block6_3_bn[0][0]          \n",
            "__________________________________________________________________________________________________\n",
            "conv4_block6_out (Activation)   (None, 14, 14, 1024) 0           conv4_block6_add[0][0]           \n",
            "__________________________________________________________________________________________________\n",
            "conv5_block1_1_conv (Conv2D)    (None, 7, 7, 512)    524800      conv4_block6_out[0][0]           \n",
            "__________________________________________________________________________________________________\n",
            "conv5_block1_1_bn (BatchNormali (None, 7, 7, 512)    2048        conv5_block1_1_conv[0][0]        \n",
            "__________________________________________________________________________________________________\n",
            "conv5_block1_1_relu (Activation (None, 7, 7, 512)    0           conv5_block1_1_bn[0][0]          \n",
            "__________________________________________________________________________________________________\n",
            "conv5_block1_2_conv (Conv2D)    (None, 7, 7, 512)    2359808     conv5_block1_1_relu[0][0]        \n",
            "__________________________________________________________________________________________________\n",
            "conv5_block1_2_bn (BatchNormali (None, 7, 7, 512)    2048        conv5_block1_2_conv[0][0]        \n",
            "__________________________________________________________________________________________________\n",
            "conv5_block1_2_relu (Activation (None, 7, 7, 512)    0           conv5_block1_2_bn[0][0]          \n",
            "__________________________________________________________________________________________________\n",
            "conv5_block1_0_conv (Conv2D)    (None, 7, 7, 2048)   2099200     conv4_block6_out[0][0]           \n",
            "__________________________________________________________________________________________________\n",
            "conv5_block1_3_conv (Conv2D)    (None, 7, 7, 2048)   1050624     conv5_block1_2_relu[0][0]        \n",
            "__________________________________________________________________________________________________\n",
            "conv5_block1_0_bn (BatchNormali (None, 7, 7, 2048)   8192        conv5_block1_0_conv[0][0]        \n",
            "__________________________________________________________________________________________________\n",
            "conv5_block1_3_bn (BatchNormali (None, 7, 7, 2048)   8192        conv5_block1_3_conv[0][0]        \n",
            "__________________________________________________________________________________________________\n",
            "conv5_block1_add (Add)          (None, 7, 7, 2048)   0           conv5_block1_0_bn[0][0]          \n",
            "                                                                 conv5_block1_3_bn[0][0]          \n",
            "__________________________________________________________________________________________________\n",
            "conv5_block1_out (Activation)   (None, 7, 7, 2048)   0           conv5_block1_add[0][0]           \n",
            "__________________________________________________________________________________________________\n",
            "conv5_block2_1_conv (Conv2D)    (None, 7, 7, 512)    1049088     conv5_block1_out[0][0]           \n",
            "__________________________________________________________________________________________________\n",
            "conv5_block2_1_bn (BatchNormali (None, 7, 7, 512)    2048        conv5_block2_1_conv[0][0]        \n",
            "__________________________________________________________________________________________________\n",
            "conv5_block2_1_relu (Activation (None, 7, 7, 512)    0           conv5_block2_1_bn[0][0]          \n",
            "__________________________________________________________________________________________________\n",
            "conv5_block2_2_conv (Conv2D)    (None, 7, 7, 512)    2359808     conv5_block2_1_relu[0][0]        \n",
            "__________________________________________________________________________________________________\n",
            "conv5_block2_2_bn (BatchNormali (None, 7, 7, 512)    2048        conv5_block2_2_conv[0][0]        \n",
            "__________________________________________________________________________________________________\n",
            "conv5_block2_2_relu (Activation (None, 7, 7, 512)    0           conv5_block2_2_bn[0][0]          \n",
            "__________________________________________________________________________________________________\n",
            "conv5_block2_3_conv (Conv2D)    (None, 7, 7, 2048)   1050624     conv5_block2_2_relu[0][0]        \n",
            "__________________________________________________________________________________________________\n",
            "conv5_block2_3_bn (BatchNormali (None, 7, 7, 2048)   8192        conv5_block2_3_conv[0][0]        \n",
            "__________________________________________________________________________________________________\n",
            "conv5_block2_add (Add)          (None, 7, 7, 2048)   0           conv5_block1_out[0][0]           \n",
            "                                                                 conv5_block2_3_bn[0][0]          \n",
            "__________________________________________________________________________________________________\n",
            "conv5_block2_out (Activation)   (None, 7, 7, 2048)   0           conv5_block2_add[0][0]           \n",
            "__________________________________________________________________________________________________\n",
            "conv5_block3_1_conv (Conv2D)    (None, 7, 7, 512)    1049088     conv5_block2_out[0][0]           \n",
            "__________________________________________________________________________________________________\n",
            "conv5_block3_1_bn (BatchNormali (None, 7, 7, 512)    2048        conv5_block3_1_conv[0][0]        \n",
            "__________________________________________________________________________________________________\n",
            "conv5_block3_1_relu (Activation (None, 7, 7, 512)    0           conv5_block3_1_bn[0][0]          \n",
            "__________________________________________________________________________________________________\n",
            "conv5_block3_2_conv (Conv2D)    (None, 7, 7, 512)    2359808     conv5_block3_1_relu[0][0]        \n",
            "__________________________________________________________________________________________________\n",
            "conv5_block3_2_bn (BatchNormali (None, 7, 7, 512)    2048        conv5_block3_2_conv[0][0]        \n",
            "__________________________________________________________________________________________________\n",
            "conv5_block3_2_relu (Activation (None, 7, 7, 512)    0           conv5_block3_2_bn[0][0]          \n",
            "__________________________________________________________________________________________________\n",
            "conv5_block3_3_conv (Conv2D)    (None, 7, 7, 2048)   1050624     conv5_block3_2_relu[0][0]        \n",
            "__________________________________________________________________________________________________\n",
            "conv5_block3_3_bn (BatchNormali (None, 7, 7, 2048)   8192        conv5_block3_3_conv[0][0]        \n",
            "__________________________________________________________________________________________________\n",
            "conv5_block3_add (Add)          (None, 7, 7, 2048)   0           conv5_block2_out[0][0]           \n",
            "                                                                 conv5_block3_3_bn[0][0]          \n",
            "__________________________________________________________________________________________________\n",
            "conv5_block3_out (Activation)   (None, 7, 7, 2048)   0           conv5_block3_add[0][0]           \n",
            "==================================================================================================\n",
            "Total params: 23,587,712\n",
            "Trainable params: 23,534,592\n",
            "Non-trainable params: 53,120\n",
            "__________________________________________________________________________________________________\n"
          ],
          "name": "stdout"
        }
      ]
    },
    {
      "cell_type": "code",
      "metadata": {
        "colab": {
          "base_uri": "https://localhost:8080/"
        },
        "id": "0HgIedSao3Um",
        "outputId": "b2a8de9e-1f81-409d-c3ef-5323f002a249"
      },
      "source": [
        "for i, layer in enumerate(resnet_model.layers):\n",
        "  print(i, layer.name, \"-\", layer.trainable)"
      ],
      "execution_count": null,
      "outputs": [
        {
          "output_type": "stream",
          "text": [
            "0 input_1 - True\n",
            "1 conv1_pad - True\n",
            "2 conv1_conv - True\n",
            "3 conv1_bn - True\n",
            "4 conv1_relu - True\n",
            "5 pool1_pad - True\n",
            "6 pool1_pool - True\n",
            "7 conv2_block1_1_conv - True\n",
            "8 conv2_block1_1_bn - True\n",
            "9 conv2_block1_1_relu - True\n",
            "10 conv2_block1_2_conv - True\n",
            "11 conv2_block1_2_bn - True\n",
            "12 conv2_block1_2_relu - True\n",
            "13 conv2_block1_0_conv - True\n",
            "14 conv2_block1_3_conv - True\n",
            "15 conv2_block1_0_bn - True\n",
            "16 conv2_block1_3_bn - True\n",
            "17 conv2_block1_add - True\n",
            "18 conv2_block1_out - True\n",
            "19 conv2_block2_1_conv - True\n",
            "20 conv2_block2_1_bn - True\n",
            "21 conv2_block2_1_relu - True\n",
            "22 conv2_block2_2_conv - True\n",
            "23 conv2_block2_2_bn - True\n",
            "24 conv2_block2_2_relu - True\n",
            "25 conv2_block2_3_conv - True\n",
            "26 conv2_block2_3_bn - True\n",
            "27 conv2_block2_add - True\n",
            "28 conv2_block2_out - True\n",
            "29 conv2_block3_1_conv - True\n",
            "30 conv2_block3_1_bn - True\n",
            "31 conv2_block3_1_relu - True\n",
            "32 conv2_block3_2_conv - True\n",
            "33 conv2_block3_2_bn - True\n",
            "34 conv2_block3_2_relu - True\n",
            "35 conv2_block3_3_conv - True\n",
            "36 conv2_block3_3_bn - True\n",
            "37 conv2_block3_add - True\n",
            "38 conv2_block3_out - True\n",
            "39 conv3_block1_1_conv - True\n",
            "40 conv3_block1_1_bn - True\n",
            "41 conv3_block1_1_relu - True\n",
            "42 conv3_block1_2_conv - True\n",
            "43 conv3_block1_2_bn - True\n",
            "44 conv3_block1_2_relu - True\n",
            "45 conv3_block1_0_conv - True\n",
            "46 conv3_block1_3_conv - True\n",
            "47 conv3_block1_0_bn - True\n",
            "48 conv3_block1_3_bn - True\n",
            "49 conv3_block1_add - True\n",
            "50 conv3_block1_out - True\n",
            "51 conv3_block2_1_conv - True\n",
            "52 conv3_block2_1_bn - True\n",
            "53 conv3_block2_1_relu - True\n",
            "54 conv3_block2_2_conv - True\n",
            "55 conv3_block2_2_bn - True\n",
            "56 conv3_block2_2_relu - True\n",
            "57 conv3_block2_3_conv - True\n",
            "58 conv3_block2_3_bn - True\n",
            "59 conv3_block2_add - True\n",
            "60 conv3_block2_out - True\n",
            "61 conv3_block3_1_conv - True\n",
            "62 conv3_block3_1_bn - True\n",
            "63 conv3_block3_1_relu - True\n",
            "64 conv3_block3_2_conv - True\n",
            "65 conv3_block3_2_bn - True\n",
            "66 conv3_block3_2_relu - True\n",
            "67 conv3_block3_3_conv - True\n",
            "68 conv3_block3_3_bn - True\n",
            "69 conv3_block3_add - True\n",
            "70 conv3_block3_out - True\n",
            "71 conv3_block4_1_conv - True\n",
            "72 conv3_block4_1_bn - True\n",
            "73 conv3_block4_1_relu - True\n",
            "74 conv3_block4_2_conv - True\n",
            "75 conv3_block4_2_bn - True\n",
            "76 conv3_block4_2_relu - True\n",
            "77 conv3_block4_3_conv - True\n",
            "78 conv3_block4_3_bn - True\n",
            "79 conv3_block4_add - True\n",
            "80 conv3_block4_out - True\n",
            "81 conv4_block1_1_conv - True\n",
            "82 conv4_block1_1_bn - True\n",
            "83 conv4_block1_1_relu - True\n",
            "84 conv4_block1_2_conv - True\n",
            "85 conv4_block1_2_bn - True\n",
            "86 conv4_block1_2_relu - True\n",
            "87 conv4_block1_0_conv - True\n",
            "88 conv4_block1_3_conv - True\n",
            "89 conv4_block1_0_bn - True\n",
            "90 conv4_block1_3_bn - True\n",
            "91 conv4_block1_add - True\n",
            "92 conv4_block1_out - True\n",
            "93 conv4_block2_1_conv - True\n",
            "94 conv4_block2_1_bn - True\n",
            "95 conv4_block2_1_relu - True\n",
            "96 conv4_block2_2_conv - True\n",
            "97 conv4_block2_2_bn - True\n",
            "98 conv4_block2_2_relu - True\n",
            "99 conv4_block2_3_conv - True\n",
            "100 conv4_block2_3_bn - True\n",
            "101 conv4_block2_add - True\n",
            "102 conv4_block2_out - True\n",
            "103 conv4_block3_1_conv - True\n",
            "104 conv4_block3_1_bn - True\n",
            "105 conv4_block3_1_relu - True\n",
            "106 conv4_block3_2_conv - True\n",
            "107 conv4_block3_2_bn - True\n",
            "108 conv4_block3_2_relu - True\n",
            "109 conv4_block3_3_conv - True\n",
            "110 conv4_block3_3_bn - True\n",
            "111 conv4_block3_add - True\n",
            "112 conv4_block3_out - True\n",
            "113 conv4_block4_1_conv - True\n",
            "114 conv4_block4_1_bn - True\n",
            "115 conv4_block4_1_relu - True\n",
            "116 conv4_block4_2_conv - True\n",
            "117 conv4_block4_2_bn - True\n",
            "118 conv4_block4_2_relu - True\n",
            "119 conv4_block4_3_conv - True\n",
            "120 conv4_block4_3_bn - True\n",
            "121 conv4_block4_add - True\n",
            "122 conv4_block4_out - True\n",
            "123 conv4_block5_1_conv - True\n",
            "124 conv4_block5_1_bn - True\n",
            "125 conv4_block5_1_relu - True\n",
            "126 conv4_block5_2_conv - True\n",
            "127 conv4_block5_2_bn - True\n",
            "128 conv4_block5_2_relu - True\n",
            "129 conv4_block5_3_conv - True\n",
            "130 conv4_block5_3_bn - True\n",
            "131 conv4_block5_add - True\n",
            "132 conv4_block5_out - True\n",
            "133 conv4_block6_1_conv - True\n",
            "134 conv4_block6_1_bn - True\n",
            "135 conv4_block6_1_relu - True\n",
            "136 conv4_block6_2_conv - True\n",
            "137 conv4_block6_2_bn - True\n",
            "138 conv4_block6_2_relu - True\n",
            "139 conv4_block6_3_conv - True\n",
            "140 conv4_block6_3_bn - True\n",
            "141 conv4_block6_add - True\n",
            "142 conv4_block6_out - True\n",
            "143 conv5_block1_1_conv - True\n",
            "144 conv5_block1_1_bn - True\n",
            "145 conv5_block1_1_relu - True\n",
            "146 conv5_block1_2_conv - True\n",
            "147 conv5_block1_2_bn - True\n",
            "148 conv5_block1_2_relu - True\n",
            "149 conv5_block1_0_conv - True\n",
            "150 conv5_block1_3_conv - True\n",
            "151 conv5_block1_0_bn - True\n",
            "152 conv5_block1_3_bn - True\n",
            "153 conv5_block1_add - True\n",
            "154 conv5_block1_out - True\n",
            "155 conv5_block2_1_conv - True\n",
            "156 conv5_block2_1_bn - True\n",
            "157 conv5_block2_1_relu - True\n",
            "158 conv5_block2_2_conv - True\n",
            "159 conv5_block2_2_bn - True\n",
            "160 conv5_block2_2_relu - True\n",
            "161 conv5_block2_3_conv - True\n",
            "162 conv5_block2_3_bn - True\n",
            "163 conv5_block2_add - True\n",
            "164 conv5_block2_out - True\n",
            "165 conv5_block3_1_conv - True\n",
            "166 conv5_block3_1_bn - True\n",
            "167 conv5_block3_1_relu - True\n",
            "168 conv5_block3_2_conv - True\n",
            "169 conv5_block3_2_bn - True\n",
            "170 conv5_block3_2_relu - True\n",
            "171 conv5_block3_3_conv - True\n",
            "172 conv5_block3_3_bn - True\n",
            "173 conv5_block3_add - True\n",
            "174 conv5_block3_out - True\n"
          ],
          "name": "stdout"
        }
      ]
    },
    {
      "cell_type": "code",
      "metadata": {
        "id": "eG1zGf1Ao3ZB"
      },
      "source": [
        "def create_resnet_model():\n",
        "  model = K.models.Sequential()\n",
        "  model.add(resnet_model)\n",
        "  model.add(K.layers.Flatten())\n",
        "  model.add(K.layers.BatchNormalization())\n",
        "  model.add(K.layers.Dense(256, activation='relu'))\n",
        "  model.add(K.layers.Dropout(0.5))\n",
        "  model.add(K.layers.BatchNormalization())\n",
        "  model.add(K.layers.Dense(128, activation='relu'))\n",
        "  model.add(K.layers.Dense(3, activation='softmax'))\n",
        "  return model"
      ],
      "execution_count": null,
      "outputs": []
    },
    {
      "cell_type": "code",
      "metadata": {
        "colab": {
          "base_uri": "https://localhost:8080/"
        },
        "id": "zGa1BcmIo3cQ",
        "outputId": "3c6e165f-9554-472c-c930-e0ce67df8d99"
      },
      "source": [
        "model_resnet = create_resnet_model()\n",
        "model_resnet.summary()"
      ],
      "execution_count": null,
      "outputs": [
        {
          "output_type": "stream",
          "text": [
            "Model: \"sequential\"\n",
            "_________________________________________________________________\n",
            "Layer (type)                 Output Shape              Param #   \n",
            "=================================================================\n",
            "resnet50 (Functional)        (None, 7, 7, 2048)        23587712  \n",
            "_________________________________________________________________\n",
            "flatten (Flatten)            (None, 100352)            0         \n",
            "_________________________________________________________________\n",
            "batch_normalization (BatchNo (None, 100352)            401408    \n",
            "_________________________________________________________________\n",
            "dense (Dense)                (None, 256)               25690368  \n",
            "_________________________________________________________________\n",
            "dropout (Dropout)            (None, 256)               0         \n",
            "_________________________________________________________________\n",
            "batch_normalization_1 (Batch (None, 256)               1024      \n",
            "_________________________________________________________________\n",
            "dense_1 (Dense)              (None, 128)               32896     \n",
            "_________________________________________________________________\n",
            "dense_2 (Dense)              (None, 3)                 387       \n",
            "=================================================================\n",
            "Total params: 49,713,795\n",
            "Trainable params: 49,459,459\n",
            "Non-trainable params: 254,336\n",
            "_________________________________________________________________\n"
          ],
          "name": "stdout"
        }
      ]
    },
    {
      "cell_type": "code",
      "metadata": {
        "colab": {
          "base_uri": "https://localhost:8080/"
        },
        "id": "bF5YyFBZo-KG",
        "outputId": "d17d4492-a7df-445b-de78-3117da0add6d"
      },
      "source": [
        "model_resnet.compile(optimizer='adam',\n",
        "              loss='sparse_categorical_crossentropy',\n",
        "              metrics=['accuracy'])\n",
        "\n",
        "history_resnet = model_resnet.fit(train_images, train_labels, epochs=20, \n",
        "                    validation_data=(val_images, val_labels))"
      ],
      "execution_count": null,
      "outputs": [
        {
          "output_type": "stream",
          "text": [
            "Epoch 1/20\n",
            "89/89 [==============================] - 71s 358ms/step - loss: 0.7895 - accuracy: 0.6914 - val_loss: 139.5089 - val_accuracy: 0.2725\n",
            "Epoch 2/20\n",
            "89/89 [==============================] - 29s 329ms/step - loss: 0.6227 - accuracy: 0.7406 - val_loss: 38.1803 - val_accuracy: 0.3539\n",
            "Epoch 3/20\n",
            "89/89 [==============================] - 30s 334ms/step - loss: 0.6085 - accuracy: 0.7469 - val_loss: 1.6473 - val_accuracy: 0.2725\n",
            "Epoch 4/20\n",
            "89/89 [==============================] - 30s 341ms/step - loss: 0.5464 - accuracy: 0.7719 - val_loss: 66.5608 - val_accuracy: 0.4185\n",
            "Epoch 5/20\n",
            "89/89 [==============================] - 31s 348ms/step - loss: 0.6017 - accuracy: 0.7466 - val_loss: 1.2201 - val_accuracy: 0.3090\n",
            "Epoch 6/20\n",
            "89/89 [==============================] - 31s 346ms/step - loss: 0.4877 - accuracy: 0.7951 - val_loss: 0.8181 - val_accuracy: 0.6348\n",
            "Epoch 7/20\n",
            "89/89 [==============================] - 31s 346ms/step - loss: 0.3959 - accuracy: 0.8408 - val_loss: 1.1149 - val_accuracy: 0.4972\n",
            "Epoch 8/20\n",
            "89/89 [==============================] - 31s 346ms/step - loss: 0.3304 - accuracy: 0.8724 - val_loss: 0.6317 - val_accuracy: 0.7219\n",
            "Epoch 9/20\n",
            "89/89 [==============================] - 31s 347ms/step - loss: 0.3043 - accuracy: 0.8798 - val_loss: 0.7557 - val_accuracy: 0.7107\n",
            "Epoch 10/20\n",
            "89/89 [==============================] - 31s 346ms/step - loss: 0.2416 - accuracy: 0.9072 - val_loss: 0.5672 - val_accuracy: 0.7809\n",
            "Epoch 11/20\n",
            "89/89 [==============================] - 31s 346ms/step - loss: 0.2306 - accuracy: 0.9100 - val_loss: 0.4430 - val_accuracy: 0.8258\n",
            "Epoch 12/20\n",
            "89/89 [==============================] - 31s 346ms/step - loss: 0.2247 - accuracy: 0.9121 - val_loss: 0.4057 - val_accuracy: 0.8427\n",
            "Epoch 13/20\n",
            "89/89 [==============================] - 31s 348ms/step - loss: 0.1926 - accuracy: 0.9251 - val_loss: 0.5938 - val_accuracy: 0.8006\n",
            "Epoch 14/20\n",
            "89/89 [==============================] - 31s 347ms/step - loss: 0.1819 - accuracy: 0.9357 - val_loss: 0.6471 - val_accuracy: 0.8146\n",
            "Epoch 15/20\n",
            "89/89 [==============================] - 31s 346ms/step - loss: 0.1561 - accuracy: 0.9441 - val_loss: 0.6492 - val_accuracy: 0.8174\n",
            "Epoch 16/20\n",
            "89/89 [==============================] - 31s 348ms/step - loss: 0.1576 - accuracy: 0.9441 - val_loss: 0.5847 - val_accuracy: 0.8258\n",
            "Epoch 17/20\n",
            "89/89 [==============================] - 31s 348ms/step - loss: 0.1863 - accuracy: 0.9357 - val_loss: 0.6339 - val_accuracy: 0.8146\n",
            "Epoch 18/20\n",
            "89/89 [==============================] - 31s 347ms/step - loss: 0.1956 - accuracy: 0.9262 - val_loss: 0.7509 - val_accuracy: 0.8034\n",
            "Epoch 19/20\n",
            "89/89 [==============================] - 31s 347ms/step - loss: 0.1305 - accuracy: 0.9522 - val_loss: 0.5387 - val_accuracy: 0.8371\n",
            "Epoch 20/20\n",
            "89/89 [==============================] - 31s 347ms/step - loss: 0.1168 - accuracy: 0.9557 - val_loss: 0.5216 - val_accuracy: 0.8680\n"
          ],
          "name": "stdout"
        }
      ]
    },
    {
      "cell_type": "code",
      "metadata": {
        "colab": {
          "base_uri": "https://localhost:8080/",
          "height": 541
        },
        "id": "yLQzFaZYo-SH",
        "outputId": "6d6ae6b1-af65-4cae-9a00-2225c1fa8008"
      },
      "source": [
        "plot (history_resnet)"
      ],
      "execution_count": null,
      "outputs": [
        {
          "output_type": "display_data",
          "data": {
            "image/png": "[encoded data removed]",
            "text/plain": [
              "<Figure size 432x288 with 1 Axes>"
            ]
          },
          "metadata": {
            "tags": [],
            "needs_background": "light"
          }
        },
        {
          "output_type": "display_data",
          "data": {
            "image/png": "[encoded data removed]",
            "text/plain": [
              "<Figure size 432x288 with 1 Axes>"
            ]
          },
          "metadata": {
            "tags": [],
            "needs_background": "light"
          }
        }
      ]
    },
    {
      "cell_type": "code",
      "metadata": {
        "colab": {
          "base_uri": "https://localhost:8080/"
        },
        "id": "pIQYrh9NpKtr",
        "outputId": "a61b8583-f789-4a1e-8069-e48d922401c4"
      },
      "source": [
        "predicted_labels_1=model_resnet.predict(test_images)\n",
        "model_resnet.evaluate(test_images,test_labels)"
      ],
      "execution_count": null,
      "outputs": [
        {
          "output_type": "stream",
          "text": [
            "12/12 [==============================] - 1s 91ms/step - loss: 0.5965 - accuracy: 0.8455\n"
          ],
          "name": "stdout"
        },
        {
          "output_type": "execute_result",
          "data": {
            "text/plain": [
              "[0.5965491533279419, 0.8455055952072144]"
            ]
          },
          "metadata": {
            "tags": []
          },
          "execution_count": 40
        }
      ]
    },
    {
      "cell_type": "markdown",
      "metadata": {
        "id": "-6N6qqKfOfF5"
      },
      "source": [
        "###Evaluation Metrices for Resnet model"
      ]
    },
    {
      "cell_type": "code",
      "metadata": {
        "colab": {
          "base_uri": "https://localhost:8080/",
          "height": 1000
        },
        "id": "1zOGVVE6OLwM",
        "outputId": "8e231103-8533-42ec-c80b-6859ccfac2a4"
      },
      "source": [
        "metrics(predicted_labels_1,test_labels)"
      ],
      "execution_count": null,
      "outputs": [
        {
          "output_type": "stream",
          "text": [
            "Confusion Matrix  [[ 72  22  10]\n",
            " [  8 142   9]\n",
            " [  0   6  87]]\n",
            "\n",
            "Accuracy  0.8455056179775281\n",
            "\n",
            "Recall  [0.69230769 0.89308176 0.93548387]\n",
            "\n",
            "Precision  [0.9        0.83529412 0.82075472]\n",
            "\n",
            "F1-score  [0.7826087  0.86322188 0.87437186]\n",
            "\n",
            "Specificity  [0.96825397 0.85786802 0.92775665]\n"
          ],
          "name": "stdout"
        },
        {
          "output_type": "display_data",
          "data": {
            "image/png": "[encoded data removed]",
            "text/plain": [
              "<Figure size 432x288 with 1 Axes>"
            ]
          },
          "metadata": {
            "tags": [],
            "needs_background": "light"
          }
        },
        {
          "output_type": "display_data",
          "data": {
            "image/png": "[encoded data removed]",
            "text/plain": [
              "<Figure size 432x288 with 1 Axes>"
            ]
          },
          "metadata": {
            "tags": [],
            "needs_background": "light"
          }
        },
        {
          "output_type": "display_data",
          "data": {
            "image/png": "[encoded data removed]",
            "text/plain": [
              "<Figure size 432x288 with 1 Axes>"
            ]
          },
          "metadata": {
            "tags": [],
            "needs_background": "light"
          }
        }
      ]
    },
    {
      "cell_type": "markdown",
      "metadata": {
        "id": "bQ3AlwTZekpY"
      },
      "source": [
        "## Xception model"
      ]
    },
    {
      "cell_type": "code",
      "metadata": {
        "id": "p6Mtb1z_empE"
      },
      "source": [
        "#model using Xception\n",
        "from tensorflow.keras.applications.xception import Xception\n",
        "import tensorflow.keras as K"
      ],
      "execution_count": null,
      "outputs": []
    },
    {
      "cell_type": "code",
      "metadata": {
        "colab": {
          "base_uri": "https://localhost:8080/"
        },
        "id": "ZCs5hxjhfzFO",
        "outputId": "5306fca2-0f6e-41fa-9989-a9fd281263c3"
      },
      "source": [
        "input_t = K.Input(shape=(224,224,3))\n",
        "xce_model = Xception(\n",
        "    include_top = False,\n",
        "    weights = \"imagenet\",\n",
        "    input_tensor= input_t\n",
        ")"
      ],
      "execution_count": null,
      "outputs": [
        {
          "output_type": "stream",
          "text": [
            "Downloading data from https://storage.googleapis.com/tensorflow/keras-applications/xception/xception_weights_tf_dim_ordering_tf_kernels_notop.h5\n",
            "83689472/83683744 [==============================] - 1s 0us/step\n"
          ],
          "name": "stdout"
        }
      ]
    },
    {
      "cell_type": "code",
      "metadata": {
        "id": "nB3zsukpf0dr"
      },
      "source": [
        "def create_model_xce():\n",
        "  model = K.models.Sequential()\n",
        "  model.add(xce_model)\n",
        "  model.add(K.layers.Flatten())\n",
        "  model.add(K.layers.BatchNormalization())\n",
        "  model.add(K.layers.Dense(256, activation='relu'))\n",
        "  model.add(K.layers.Dropout(0.5))\n",
        "  model.add(K.layers.BatchNormalization())\n",
        "  model.add(K.layers.Dense(128, activation='relu'))\n",
        "  model.add(K.layers.Dense(3, activation='softmax'))\n",
        "  return model"
      ],
      "execution_count": null,
      "outputs": []
    },
    {
      "cell_type": "code",
      "metadata": {
        "colab": {
          "base_uri": "https://localhost:8080/"
        },
        "id": "zL-1uvuwf3Ao",
        "outputId": "dd940559-3f66-45ca-fcf4-cd9a726c23df"
      },
      "source": [
        "model_xception = create_model_xce()\n",
        "model_xception.summary()"
      ],
      "execution_count": null,
      "outputs": [
        {
          "output_type": "stream",
          "text": [
            "Model: \"sequential_2\"\n",
            "_________________________________________________________________\n",
            "Layer (type)                 Output Shape              Param #   \n",
            "=================================================================\n",
            "xception (Functional)        (None, 7, 7, 2048)        20861480  \n",
            "_________________________________________________________________\n",
            "flatten_1 (Flatten)          (None, 100352)            0         \n",
            "_________________________________________________________________\n",
            "batch_normalization_100 (Bat (None, 100352)            401408    \n",
            "_________________________________________________________________\n",
            "dense_3 (Dense)              (None, 256)               25690368  \n",
            "_________________________________________________________________\n",
            "dropout_1 (Dropout)          (None, 256)               0         \n",
            "_________________________________________________________________\n",
            "batch_normalization_101 (Bat (None, 256)               1024      \n",
            "_________________________________________________________________\n",
            "dense_4 (Dense)              (None, 128)               32896     \n",
            "_________________________________________________________________\n",
            "dense_5 (Dense)              (None, 3)                 387       \n",
            "=================================================================\n",
            "Total params: 46,987,563\n",
            "Trainable params: 46,731,819\n",
            "Non-trainable params: 255,744\n",
            "_________________________________________________________________\n"
          ],
          "name": "stdout"
        }
      ]
    },
    {
      "cell_type": "code",
      "metadata": {
        "colab": {
          "base_uri": "https://localhost:8080/"
        },
        "id": "MotuuKFNf5rC",
        "outputId": "1efe928c-1ab6-4e06-8d1d-605ea15458a7"
      },
      "source": [
        "model_xception.compile(optimizer='adam',\n",
        "              loss='sparse_categorical_crossentropy',\n",
        "              metrics=['accuracy'])\n",
        "\n",
        "history_xception = model_xception.fit(train_images, train_labels, epochs=20, \n",
        "                    validation_data=(val_images, val_labels))"
      ],
      "execution_count": null,
      "outputs": [
        {
          "output_type": "stream",
          "text": [
            "Epoch 1/20\n",
            "89/89 [==============================] - 69s 694ms/step - loss: 0.6749 - accuracy: 0.7209 - val_loss: 0.7267 - val_accuracy: 0.7331\n",
            "Epoch 2/20\n",
            "89/89 [==============================] - 57s 636ms/step - loss: 0.4747 - accuracy: 0.8162 - val_loss: 0.7680 - val_accuracy: 0.7303\n",
            "Epoch 3/20\n",
            "89/89 [==============================] - 57s 639ms/step - loss: 0.3400 - accuracy: 0.8759 - val_loss: 0.3470 - val_accuracy: 0.8567\n",
            "Epoch 4/20\n",
            "89/89 [==============================] - 57s 642ms/step - loss: 0.2690 - accuracy: 0.9033 - val_loss: 0.3403 - val_accuracy: 0.8764\n",
            "Epoch 5/20\n",
            "89/89 [==============================] - 57s 637ms/step - loss: 0.2189 - accuracy: 0.9192 - val_loss: 0.3975 - val_accuracy: 0.8624\n",
            "Epoch 6/20\n",
            "89/89 [==============================] - 57s 635ms/step - loss: 0.2078 - accuracy: 0.9262 - val_loss: 0.4453 - val_accuracy: 0.8371\n",
            "Epoch 7/20\n",
            "89/89 [==============================] - 57s 638ms/step - loss: 0.1894 - accuracy: 0.9339 - val_loss: 0.3572 - val_accuracy: 0.9101\n",
            "Epoch 8/20\n",
            "89/89 [==============================] - 56s 634ms/step - loss: 0.4174 - accuracy: 0.8436 - val_loss: 5.5923 - val_accuracy: 0.4551\n",
            "Epoch 9/20\n",
            "89/89 [==============================] - 57s 636ms/step - loss: 0.3157 - accuracy: 0.8851 - val_loss: 0.5405 - val_accuracy: 0.8146\n",
            "Epoch 10/20\n",
            "89/89 [==============================] - 56s 634ms/step - loss: 0.2353 - accuracy: 0.9163 - val_loss: 0.5171 - val_accuracy: 0.8483\n",
            "Epoch 11/20\n",
            "89/89 [==============================] - 57s 637ms/step - loss: 0.1798 - accuracy: 0.9381 - val_loss: 0.3846 - val_accuracy: 0.8624\n",
            "Epoch 12/20\n",
            "89/89 [==============================] - 57s 637ms/step - loss: 0.1414 - accuracy: 0.9540 - val_loss: 0.3154 - val_accuracy: 0.8624\n",
            "Epoch 13/20\n",
            "89/89 [==============================] - 57s 636ms/step - loss: 0.1224 - accuracy: 0.9589 - val_loss: 0.4258 - val_accuracy: 0.8624\n",
            "Epoch 14/20\n",
            "89/89 [==============================] - 57s 638ms/step - loss: 0.0879 - accuracy: 0.9750 - val_loss: 0.2796 - val_accuracy: 0.9073\n",
            "Epoch 15/20\n",
            "89/89 [==============================] - 57s 636ms/step - loss: 0.0606 - accuracy: 0.9824 - val_loss: 0.3602 - val_accuracy: 0.8961\n",
            "Epoch 16/20\n",
            "89/89 [==============================] - 56s 632ms/step - loss: 0.0829 - accuracy: 0.9743 - val_loss: 0.4439 - val_accuracy: 0.8933\n",
            "Epoch 17/20\n",
            "89/89 [==============================] - 57s 637ms/step - loss: 0.0817 - accuracy: 0.9764 - val_loss: 0.3059 - val_accuracy: 0.9157\n",
            "Epoch 18/20\n",
            "89/89 [==============================] - 56s 633ms/step - loss: 0.0819 - accuracy: 0.9729 - val_loss: 0.3696 - val_accuracy: 0.8904\n",
            "Epoch 19/20\n",
            "89/89 [==============================] - 57s 638ms/step - loss: 0.0724 - accuracy: 0.9754 - val_loss: 0.3227 - val_accuracy: 0.9298\n",
            "Epoch 20/20\n",
            "89/89 [==============================] - 56s 635ms/step - loss: 0.0542 - accuracy: 0.9824 - val_loss: 0.2866 - val_accuracy: 0.9213\n"
          ],
          "name": "stdout"
        }
      ]
    },
    {
      "cell_type": "code",
      "metadata": {
        "colab": {
          "base_uri": "https://localhost:8080/",
          "height": 542
        },
        "id": "dMksvlIe8QmG",
        "outputId": "987bdb20-f147-41be-b580-273914e667a7"
      },
      "source": [
        "plot(history_xception)"
      ],
      "execution_count": null,
      "outputs": [
        {
          "output_type": "display_data",
          "data": {
            "image/png": "[encoded data removed]",
            "text/plain": [
              "<Figure size 432x288 with 1 Axes>"
            ]
          },
          "metadata": {
            "tags": [],
            "needs_background": "light"
          }
        },
        {
          "output_type": "display_data",
          "data": {
            "image/png": "[encoded data removed]",
            "text/plain": [
              "<Figure size 432x288 with 1 Axes>"
            ]
          },
          "metadata": {
            "tags": [],
            "needs_background": "light"
          }
        }
      ]
    },
    {
      "cell_type": "code",
      "metadata": {
        "id": "CSI5Mbqcf_QG",
        "colab": {
          "base_uri": "https://localhost:8080/"
        },
        "outputId": "7eb90282-e025-4c1b-feea-8c9a976ff76a"
      },
      "source": [
        "model_xception.save('/content/drive/MyDrive/model_xception.h5')\n",
        "#model with test acc 89%"
      ],
      "execution_count": null,
      "outputs": [
        {
          "output_type": "stream",
          "text": [
            "/usr/local/lib/python3.7/dist-packages/tensorflow/python/keras/utils/generic_utils.py:497: CustomMaskWarning: Custom mask layers require a config and must override get_config. When loading, the custom mask layer must be passed to the custom_objects argument.\n",
            "  category=CustomMaskWarning)\n"
          ],
          "name": "stderr"
        }
      ]
    },
    {
      "cell_type": "code",
      "metadata": {
        "id": "sI3pnlCyf9r9",
        "colab": {
          "base_uri": "https://localhost:8080/"
        },
        "outputId": "f5c6f804-d108-47ff-81e0-d434f2d2ab10"
      },
      "source": [
        "predicted_labels_2=model_xception.predict(test_images)\n",
        "model_xception.evaluate(test_images,test_labels)"
      ],
      "execution_count": null,
      "outputs": [
        {
          "output_type": "stream",
          "text": [
            "12/12 [==============================] - 2s 125ms/step - loss: 0.3722 - accuracy: 0.8933\n"
          ],
          "name": "stdout"
        },
        {
          "output_type": "execute_result",
          "data": {
            "text/plain": [
              "[0.3722130358219147, 0.8932584524154663]"
            ]
          },
          "metadata": {
            "tags": []
          },
          "execution_count": 47
        }
      ]
    },
    {
      "cell_type": "markdown",
      "metadata": {
        "id": "k6CS6IdgOk3L"
      },
      "source": [
        "###Evaluation Metrices for Xception model"
      ]
    },
    {
      "cell_type": "code",
      "metadata": {
        "colab": {
          "base_uri": "https://localhost:8080/",
          "height": 1000
        },
        "id": "LsJU9gPPOoe6",
        "outputId": "0846e29e-c3af-4717-d7d3-4219512bf44e"
      },
      "source": [
        "metrics(predicted_labels_2,test_labels)"
      ],
      "execution_count": null,
      "outputs": [
        {
          "output_type": "stream",
          "text": [
            "Confusion Matrix  [[ 96   7   1]\n",
            " [ 16 132  11]\n",
            " [  2   1  90]]\n",
            "\n",
            "Accuracy  0.8932584269662921\n",
            "\n",
            "Recall  [0.92307692 0.83018868 0.96774194]\n",
            "\n",
            "Precision  [0.84210526 0.94285714 0.88235294]\n",
            "\n",
            "F1-score  [0.88073394 0.88294314 0.92307692]\n",
            "\n",
            "Specificity  [0.92857143 0.95939086 0.95437262]\n"
          ],
          "name": "stdout"
        },
        {
          "output_type": "display_data",
          "data": {
            "image/png": "[encoded data removed]",
            "text/plain": [
              "<Figure size 432x288 with 1 Axes>"
            ]
          },
          "metadata": {
            "tags": [],
            "needs_background": "light"
          }
        },
        {
          "output_type": "display_data",
          "data": {
            "image/png": "[encoded data removed]",
            "text/plain": [
              "<Figure size 432x288 with 1 Axes>"
            ]
          },
          "metadata": {
            "tags": [],
            "needs_background": "light"
          }
        },
        {
          "output_type": "display_data",
          "data": {
            "image/png": "[encoded data removed]",
            "text/plain": [
              "<Figure size 432x288 with 1 Axes>"
            ]
          },
          "metadata": {
            "tags": [],
            "needs_background": "light"
          }
        }
      ]
    },
    {
      "cell_type": "markdown",
      "metadata": {
        "id": "Nr72o0M663MD"
      },
      "source": [
        "##InceptionV3 model"
      ]
    },
    {
      "cell_type": "code",
      "metadata": {
        "id": "WAOSWNhzyKoY",
        "colab": {
          "base_uri": "https://localhost:8080/"
        },
        "outputId": "b9939744-d8f4-4b91-e564-6c5ad99df1fb"
      },
      "source": [
        "#model using InceptionV3\n",
        "import tensorflow.keras as K\n",
        "from tensorflow.keras.applications.inception_v3 import InceptionV3\n",
        "input_layer = K.Input(shape=(224,224,3))\n",
        "inc_model = InceptionV3(\n",
        "    include_top = False,\n",
        "    weights = \"imagenet\",\n",
        "    input_tensor= input_layer\n",
        ")"
      ],
      "execution_count": null,
      "outputs": [
        {
          "output_type": "stream",
          "text": [
            "Downloading data from https://storage.googleapis.com/tensorflow/keras-applications/inception_v3/inception_v3_weights_tf_dim_ordering_tf_kernels_notop.h5\n",
            "87916544/87910968 [==============================] - 1s 0us/step\n"
          ],
          "name": "stdout"
        }
      ]
    },
    {
      "cell_type": "code",
      "metadata": {
        "id": "KYZ1yZ2K6ary"
      },
      "source": [
        "def create_model_inception():\n",
        "  model = K.models.Sequential()\n",
        "  model.add(inc_model)\n",
        "  model.add(K.layers.Flatten())\n",
        "  model.add(K.layers.BatchNormalization())\n",
        "  model.add(K.layers.Dense(256, activation='relu'))\n",
        "  model.add(K.layers.Dropout(0.5))\n",
        "  model.add(K.layers.BatchNormalization())\n",
        "  model.add(K.layers.Dense(128, activation='relu'))\n",
        "  model.add(K.layers.Dense(3, activation='softmax'))\n",
        "  return model"
      ],
      "execution_count": null,
      "outputs": []
    },
    {
      "cell_type": "code",
      "metadata": {
        "colab": {
          "base_uri": "https://localhost:8080/"
        },
        "id": "grHj-HGC6jrF",
        "outputId": "c065face-1108-4d65-89d6-4d153a5f298e"
      },
      "source": [
        "model_inception = create_model_inception()\n",
        "model_inception.summary()"
      ],
      "execution_count": null,
      "outputs": [
        {
          "output_type": "stream",
          "text": [
            "Model: \"sequential_1\"\n",
            "_________________________________________________________________\n",
            "Layer (type)                 Output Shape              Param #   \n",
            "=================================================================\n",
            "inception_v3 (Functional)    (None, 5, 5, 2048)        21802784  \n",
            "_________________________________________________________________\n",
            "flatten (Flatten)            (None, 51200)             0         \n",
            "_________________________________________________________________\n",
            "batch_normalization_94 (Batc (None, 51200)             204800    \n",
            "_________________________________________________________________\n",
            "dense (Dense)                (None, 256)               13107456  \n",
            "_________________________________________________________________\n",
            "dropout (Dropout)            (None, 256)               0         \n",
            "_________________________________________________________________\n",
            "batch_normalization_95 (Batc (None, 256)               1024      \n",
            "_________________________________________________________________\n",
            "dense_1 (Dense)              (None, 128)               32896     \n",
            "_________________________________________________________________\n",
            "dense_2 (Dense)              (None, 3)                 387       \n",
            "=================================================================\n",
            "Total params: 35,149,347\n",
            "Trainable params: 35,012,003\n",
            "Non-trainable params: 137,344\n",
            "_________________________________________________________________\n"
          ],
          "name": "stdout"
        }
      ]
    },
    {
      "cell_type": "code",
      "metadata": {
        "colab": {
          "base_uri": "https://localhost:8080/"
        },
        "id": "Vnik5ft26s5c",
        "outputId": "85a30926-a0f0-419a-cf96-e753380e1dcc"
      },
      "source": [
        "model_inception.compile(optimizer='adam',\n",
        "              loss='sparse_categorical_crossentropy',\n",
        "              metrics=['accuracy'])\n",
        "\n",
        "history_inception = model_inception.fit(train_images, train_labels, epochs=20, \n",
        "                    validation_data=(val_images, val_labels))"
      ],
      "execution_count": null,
      "outputs": [
        {
          "output_type": "stream",
          "text": [
            "Epoch 1/20\n",
            "89/89 [==============================] - 67s 301ms/step - loss: 0.7354 - accuracy: 0.6808 - val_loss: 5.9396 - val_accuracy: 0.3230\n",
            "Epoch 2/20\n",
            "89/89 [==============================] - 23s 258ms/step - loss: 0.5334 - accuracy: 0.8000 - val_loss: 4.1568 - val_accuracy: 0.6994\n",
            "Epoch 3/20\n",
            "89/89 [==============================] - 23s 260ms/step - loss: 0.4125 - accuracy: 0.8464 - val_loss: 2.4502 - val_accuracy: 0.7865\n",
            "Epoch 4/20\n",
            "89/89 [==============================] - 24s 266ms/step - loss: 0.4053 - accuracy: 0.8520 - val_loss: 0.5155 - val_accuracy: 0.8258\n",
            "Epoch 5/20\n",
            "89/89 [==============================] - 23s 264ms/step - loss: 0.3762 - accuracy: 0.8506 - val_loss: 2.3582 - val_accuracy: 0.6320\n",
            "Epoch 6/20\n",
            "89/89 [==============================] - 23s 261ms/step - loss: 0.2845 - accuracy: 0.8896 - val_loss: 0.3097 - val_accuracy: 0.8792\n",
            "Epoch 7/20\n",
            "89/89 [==============================] - 24s 267ms/step - loss: 0.2488 - accuracy: 0.9051 - val_loss: 0.3588 - val_accuracy: 0.8708\n",
            "Epoch 8/20\n",
            "89/89 [==============================] - 24s 268ms/step - loss: 0.2602 - accuracy: 0.9054 - val_loss: 0.2841 - val_accuracy: 0.8989\n",
            "Epoch 9/20\n",
            "89/89 [==============================] - 23s 263ms/step - loss: 0.2160 - accuracy: 0.9188 - val_loss: 0.3804 - val_accuracy: 0.8511\n",
            "Epoch 10/20\n",
            "89/89 [==============================] - 24s 268ms/step - loss: 0.1734 - accuracy: 0.9336 - val_loss: 0.4315 - val_accuracy: 0.8680\n",
            "Epoch 11/20\n",
            "89/89 [==============================] - 23s 263ms/step - loss: 0.1445 - accuracy: 0.9508 - val_loss: 1.6085 - val_accuracy: 0.7191\n",
            "Epoch 12/20\n",
            "89/89 [==============================] - 23s 263ms/step - loss: 0.1829 - accuracy: 0.9402 - val_loss: 1.7305 - val_accuracy: 0.6629\n",
            "Epoch 13/20\n",
            "89/89 [==============================] - 23s 263ms/step - loss: 0.1411 - accuracy: 0.9487 - val_loss: 0.3982 - val_accuracy: 0.8680\n",
            "Epoch 14/20\n",
            "89/89 [==============================] - 23s 263ms/step - loss: 0.1165 - accuracy: 0.9599 - val_loss: 0.5256 - val_accuracy: 0.8539\n",
            "Epoch 15/20\n",
            "89/89 [==============================] - 23s 263ms/step - loss: 0.1217 - accuracy: 0.9575 - val_loss: 1.2429 - val_accuracy: 0.7444\n",
            "Epoch 16/20\n",
            "89/89 [==============================] - 23s 264ms/step - loss: 0.1223 - accuracy: 0.9575 - val_loss: 0.5972 - val_accuracy: 0.8315\n",
            "Epoch 17/20\n",
            "89/89 [==============================] - 23s 263ms/step - loss: 0.1209 - accuracy: 0.9610 - val_loss: 0.5575 - val_accuracy: 0.8427\n",
            "Epoch 18/20\n",
            "89/89 [==============================] - 23s 264ms/step - loss: 0.1230 - accuracy: 0.9610 - val_loss: 0.5484 - val_accuracy: 0.8371\n",
            "Epoch 19/20\n",
            "89/89 [==============================] - 23s 264ms/step - loss: 0.0981 - accuracy: 0.9698 - val_loss: 0.5367 - val_accuracy: 0.8174\n",
            "Epoch 20/20\n",
            "89/89 [==============================] - 23s 263ms/step - loss: 0.1032 - accuracy: 0.9684 - val_loss: 0.5898 - val_accuracy: 0.8399\n"
          ],
          "name": "stdout"
        }
      ]
    },
    {
      "cell_type": "code",
      "metadata": {
        "colab": {
          "base_uri": "https://localhost:8080/",
          "height": 545
        },
        "id": "HIJ8LVeT8LoD",
        "outputId": "f98e5a2a-7fde-4cf7-f180-bfc47f4ac346"
      },
      "source": [
        "plot(history_inception)"
      ],
      "execution_count": null,
      "outputs": [
        {
          "output_type": "display_data",
          "data": {
            "image/png": "[encoded data removed]",
            "text/plain": [
              "<Figure size 432x288 with 1 Axes>"
            ]
          },
          "metadata": {
            "tags": [],
            "needs_background": "light"
          }
        },
        {
          "output_type": "display_data",
          "data": {
            "image/png": "[encoded data removed]",
            "text/plain": [
              "<Figure size 432x288 with 1 Axes>"
            ]
          },
          "metadata": {
            "tags": [],
            "needs_background": "light"
          }
        }
      ]
    },
    {
      "cell_type": "code",
      "metadata": {
        "colab": {
          "base_uri": "https://localhost:8080/"
        },
        "id": "pKHUCFEX8lnB",
        "outputId": "27050bf5-41c5-4d4d-b002-c33286e9ebb2"
      },
      "source": [
        "predicted_labels_3=model_inception.predict(test_images)\n",
        "model_inception.evaluate(test_images,test_labels)"
      ],
      "execution_count": null,
      "outputs": [
        {
          "output_type": "stream",
          "text": [
            "12/12 [==============================] - 1s 72ms/step - loss: 0.6159 - accuracy: 0.7725\n"
          ],
          "name": "stdout"
        },
        {
          "output_type": "execute_result",
          "data": {
            "text/plain": [
              "[0.6159102916717529, 0.7724719047546387]"
            ]
          },
          "metadata": {
            "tags": []
          },
          "execution_count": 39
        }
      ]
    },
    {
      "cell_type": "markdown",
      "metadata": {
        "id": "e4SndNMLRq9y"
      },
      "source": [
        "###Evaluation Metrices for InceptionV3 model"
      ]
    },
    {
      "cell_type": "code",
      "metadata": {
        "colab": {
          "base_uri": "https://localhost:8080/",
          "height": 1000
        },
        "id": "OseWC62M8LJc",
        "outputId": "0a1c611c-ac67-4270-c492-950c572c935f"
      },
      "source": [
        "metrics(predicted_labels_3,test_labels)"
      ],
      "execution_count": null,
      "outputs": [
        {
          "output_type": "stream",
          "text": [
            "Confusion Matrix  [[ 93  11   0]\n",
            " [ 28 130   1]\n",
            " [  0  41  52]]\n",
            "\n",
            "Accuracy  0.7724719101123596\n",
            "\n",
            "Recall  [0.89423077 0.81761006 0.55913978]\n",
            "\n",
            "Precision  [0.76859504 0.71428571 0.98113208]\n",
            "\n",
            "F1-score  [0.82666667 0.76246334 0.71232877]\n",
            "\n",
            "Specificity  [0.88888889 0.73604061 0.99619772]\n"
          ],
          "name": "stdout"
        },
        {
          "output_type": "display_data",
          "data": {
            "image/png": "[encoded data removed]",
            "text/plain": [
              "<Figure size 432x288 with 1 Axes>"
            ]
          },
          "metadata": {
            "tags": [],
            "needs_background": "light"
          }
        },
        {
          "output_type": "display_data",
          "data": {
            "image/png": "[encoded data removed]",
            "text/plain": [
              "<Figure size 432x288 with 1 Axes>"
            ]
          },
          "metadata": {
            "tags": [],
            "needs_background": "light"
          }
        },
        {
          "output_type": "display_data",
          "data": {
            "image/png": "[encoded data removed]",
            "text/plain": [
              "<Figure size 432x288 with 1 Axes>"
            ]
          },
          "metadata": {
            "tags": [],
            "needs_background": "light"
          }
        }
      ]
    },
    {
      "cell_type": "markdown",
      "metadata": {
        "id": "1kww4qoIdYKE"
      },
      "source": [
        "## Evaluation metrics"
      ]
    },
    {
      "cell_type": "code",
      "metadata": {
        "id": "0FnFzKsABh91"
      },
      "source": [
        "# Confusion Matrix\n",
        "from sklearn.metrics import confusion_matrix\n",
        "\n",
        "# Accuracy\n",
        "from sklearn.metrics import accuracy_score\n",
        "\n",
        "# Recall\n",
        "from sklearn.metrics import recall_score\n",
        "\n",
        "# Precision\n",
        "from sklearn.metrics import precision_score\n",
        "\n",
        "# F1 score\n",
        "from sklearn.metrics import f1_score\n",
        "\n",
        "#ROC curve\n",
        "from sklearn.metrics import roc_curve,auc\n",
        "from sklearn.metrics import RocCurveDisplay\n",
        "\n",
        "#Classification Report\n",
        "from sklearn.metrics import classification_report\n",
        "\n",
        "import matplotlib.pyplot as plt"
      ],
      "execution_count": null,
      "outputs": []
    },
    {
      "cell_type": "code",
      "metadata": {
        "id": "WU5qGIEvytx3"
      },
      "source": [
        "def roc(y_test, y_prob_pred_cnb):\n",
        "  # roc curve for classes\n",
        "  fpr = {}\n",
        "  tpr = {}\n",
        "  thresh ={}\n",
        "\n",
        "  n_class = 3\n",
        "\n",
        "  for i in range(n_class):    \n",
        "      fpr[i], tpr[i], thresh[i] = roc_curve(y_test, y_prob_pred_cnb[:,i], pos_label=i)\n",
        "      \n",
        "  # plotting    \n",
        "  plt.plot(fpr[0], tpr[0], linestyle='--',color='orange', label='Normal vs Rest')\n",
        "  plt.plot(fpr[1], tpr[1], linestyle='--',color='green', label='Pneumonia vs Rest')\n",
        "  plt.plot(fpr[2], tpr[2], linestyle='--',color='blue', label='Covid vs Rest')\n",
        "  plt.title('Multiclass ROC curve')\n",
        "  plt.xlabel('False Positive Rate')\n",
        "  plt.ylabel('True Positive rate')\n",
        "  plt.legend(loc='best')  "
      ],
      "execution_count": null,
      "outputs": []
    },
    {
      "cell_type": "code",
      "metadata": {
        "id": "YA7Crz-TBh94"
      },
      "source": [
        "def ROC(test_labels,preds):\n",
        "      for i in range(3):\n",
        "        fpr, tpr, thresholds = roc_curve(test_labels, preds, pos_label=i)\n",
        "        plt.figure()\n",
        "        plt.plot(fpr, tpr,label='ROC curve (area = %0.2f)' % auc(fpr,tpr))\n",
        "        plt.plot([0, 1], [0, 1], 'k--')\n",
        "        plt.xlim([0.0, 1.0])\n",
        "        plt.ylim([0.0, 1.05])\n",
        "        plt.xlabel('False Positive Rate')\n",
        "        plt.ylabel('True Positive Rate')\n",
        "        plt.title('Receiver operating characteristic example (Class %i)'%i)\n",
        "        plt.legend(loc=\"lower right\")\n",
        "        plt.show()"
      ],
      "execution_count": null,
      "outputs": []
    },
    {
      "cell_type": "code",
      "metadata": {
        "id": "9nRE7lAsHhQu"
      },
      "source": [
        "def plot_confusion_matrix(cm, classes,\n",
        "                          normalize=False,\n",
        "                          title='Confusion matrix',\n",
        "                          cmap=plt.cm.Blues):\n",
        "    import itertools\n",
        "    if normalize:\n",
        "        cm = cm.astype('float') / cm.sum(axis=1)[:, np.newaxis]\n",
        "        print(\"Normalized confusion matrix\")\n",
        "    else:\n",
        "        print('Confusion matrix, without normalization')\n",
        "\n",
        "    print(cm)\n",
        "\n",
        "    plt.imshow(cm, interpolation='nearest', cmap=cmap)\n",
        "    plt.title(title)\n",
        "    plt.colorbar()\n",
        "    tick_marks = np.arange(len(classes))\n",
        "    plt.xticks(tick_marks, classes, rotation=45)\n",
        "    plt.yticks(tick_marks, classes)\n",
        "\n",
        "    fmt = '.2f' if normalize else 'd'\n",
        "    thresh = cm.max() / 2.\n",
        "    for i, j in itertools.product(range(cm.shape[0]), range(cm.shape[1])):\n",
        "        plt.text(j, i, format(cm[i, j], fmt),\n",
        "                 horizontalalignment=\"center\",\n",
        "                 color=\"white\" if cm[i, j] > thresh else \"black\")\n",
        "\n",
        "    plt.ylabel('True label')\n",
        "    plt.xlabel('Predicted label')\n",
        "    plt.tight_layout()"
      ],
      "execution_count": null,
      "outputs": []
    },
    {
      "cell_type": "code",
      "metadata": {
        "id": "aBWJZvrQVbbv"
      },
      "source": [
        "import seaborn as sns\n",
        "import matplotlib.pyplot as plt\n",
        "\n",
        "def metrics1(predicted_labels,test_labels,y_prob_pred_cnb):\n",
        "  preds=np.zeros(test_labels.shape)\n",
        "  for i in range(len(predicted_labels)):\n",
        "    preds[i]=np.argmax(predicted_labels[i])\n",
        "  cnf_matrix=confusion_matrix(test_labels, preds)\n",
        "  FP = cnf_matrix.sum(axis=0) - np.diag(cnf_matrix) \n",
        "  FN = cnf_matrix.sum(axis=1) - np.diag(cnf_matrix)\n",
        "  TP = np.diag(cnf_matrix)\n",
        "  TN = cnf_matrix.sum() - (FP + FN + TP)\n",
        "  print(\"Confusion Matrix \",cnf_matrix)\n",
        "  \n",
        "  print(\"Accuracy \",accuracy_score(test_labels, preds))\n",
        "  print()\n",
        "  print(\"Recall \",recall_score(test_labels, preds, average=None))\n",
        "  print()\n",
        "  print(\"Precision \",precision_score(test_labels, preds, average=None))\n",
        "  print()\n",
        "  print(\"F1-score \",f1_score(test_labels, preds, average=None))\n",
        "  print()\n",
        "  print(\"Specificity \",TN/(TN + FP))\n",
        "  print()\n",
        "  print(\"Classification Report\\n\")\n",
        "  print(classification_report(test_labels, preds, target_names=['Normal', 'Pneumonia', 'Covid']))\n",
        "  print()\n",
        "  print(\"ROC curve\")\n",
        "  roc(test_labels, y_prob_pred_cnb)"
      ],
      "execution_count": null,
      "outputs": []
    },
    {
      "cell_type": "code",
      "metadata": {
        "id": "hWvFeJBWuSh-"
      },
      "source": [
        "import tensorflow as tf\n",
        "\n",
        "new_model = tf.keras.models.load_model('/content/drive/MyDrive/model_xception.h5')"
      ],
      "execution_count": null,
      "outputs": []
    },
    {
      "cell_type": "code",
      "metadata": {
        "colab": {
          "base_uri": "https://localhost:8080/"
        },
        "id": "SvCN5URVBxdi",
        "outputId": "1d4e892c-bd4b-4075-d2db-e5e4a67ff2c8"
      },
      "source": [
        "predicted_labels_new=new_model.predict(test_images)\n",
        "y_prob_pred_cnb = new_model.predict_proba(test_images)\n",
        "\n",
        "new_model.evaluate(test_images,test_labels)"
      ],
      "execution_count": null,
      "outputs": [
        {
          "output_type": "stream",
          "text": [
            "/usr/local/lib/python3.7/dist-packages/tensorflow/python/keras/engine/sequential.py:430: UserWarning: `model.predict_proba()` is deprecated and will be removed after 2021-01-01. Please use `model.predict()` instead.\n",
            "  warnings.warn('`model.predict_proba()` is deprecated and '\n"
          ],
          "name": "stderr"
        },
        {
          "output_type": "stream",
          "text": [
            "12/12 [==============================] - 2s 112ms/step - loss: 0.3791 - accuracy: 0.8933\n"
          ],
          "name": "stdout"
        },
        {
          "output_type": "execute_result",
          "data": {
            "text/plain": [
              "[0.37913593649864197, 0.8932584524154663]"
            ]
          },
          "metadata": {
            "tags": []
          },
          "execution_count": 39
        }
      ]
    },
    {
      "cell_type": "code",
      "metadata": {
        "colab": {
          "base_uri": "https://localhost:8080/",
          "height": 779
        },
        "id": "BkCyZZ9Nt7f3",
        "outputId": "b43d9d19-316a-4336-934d-15e02573e617"
      },
      "source": [
        "metrics1(predicted_labels_new,test_labels,y_prob_pred_cnb)"
      ],
      "execution_count": null,
      "outputs": [
        {
          "output_type": "stream",
          "text": [
            "Confusion Matrix  [[ 96   5   3]\n",
            " [ 18 133   8]\n",
            " [  2   2  89]]\n",
            "Accuracy  0.8932584269662921\n",
            "\n",
            "Recall  [0.92307692 0.83647799 0.95698925]\n",
            "\n",
            "Precision  [0.82758621 0.95       0.89      ]\n",
            "\n",
            "F1-score  [0.87272727 0.88963211 0.92227979]\n",
            "\n",
            "Specificity  [0.92063492 0.96446701 0.9581749 ]\n",
            "\n",
            "Classification Report\n",
            "\n",
            "              precision    recall  f1-score   support\n",
            "\n",
            "      Normal       0.83      0.92      0.87       104\n",
            "   Pneumonia       0.95      0.84      0.89       159\n",
            "       Covid       0.89      0.96      0.92        93\n",
            "\n",
            "    accuracy                           0.89       356\n",
            "   macro avg       0.89      0.91      0.89       356\n",
            "weighted avg       0.90      0.89      0.89       356\n",
            "\n",
            "\n",
            "ROC curve\n"
          ],
          "name": "stdout"
        },
        {
          "output_type": "display_data",
          "data": {
            "image/png": "[encoded data removed]",
            "text/plain": [
              "<Figure size 432x288 with 1 Axes>"
            ]
          },
          "metadata": {
            "tags": [],
            "needs_background": "light"
          }
        }
      ]
    },
    {
      "cell_type": "code",
      "metadata": {
        "colab": {
          "base_uri": "https://localhost:8080/",
          "height": 1000
        },
        "id": "wAT2Cl1V3SE0",
        "outputId": "ddc15f8a-2e79-427c-afb7-4278715b1186"
      },
      "source": [
        "metrics1(predicted_labels_new,test_labels)"
      ],
      "execution_count": null,
      "outputs": [
        {
          "output_type": "stream",
          "text": [
            "Confusion Matrix  [[ 96   5   3]\n",
            " [ 14 138   7]\n",
            " [  4   1  88]]\n",
            "Confusion matrix, without normalization\n",
            "[[ 96   5   3]\n",
            " [ 14 138   7]\n",
            " [  4   1  88]]\n",
            "\n",
            "Accuracy  0.9044943820224719\n",
            "\n",
            "Recall  [0.92307692 0.86792453 0.94623656]\n",
            "\n",
            "Precision  [0.84210526 0.95833333 0.89795918]\n",
            "\n",
            "F1-score  [0.88073394 0.91089109 0.92146597]\n",
            "\n",
            "Specificity  [0.92857143 0.96954315 0.96197719]\n",
            "\n",
            "Classification Report\n",
            "\n",
            "              precision    recall  f1-score   support\n",
            "\n",
            "      Normal       0.84      0.92      0.88       104\n",
            "    Pnemonia       0.96      0.87      0.91       159\n",
            "       Covid       0.90      0.95      0.92        93\n",
            "\n",
            "    accuracy                           0.90       356\n",
            "   macro avg       0.90      0.91      0.90       356\n",
            "weighted avg       0.91      0.90      0.90       356\n",
            "\n",
            "\n",
            "ROC curve\n"
          ],
          "name": "stdout"
        },
        {
          "output_type": "display_data",
          "data": {
            "image/png": "[encoded data removed]",
            "text/plain": [
              "<Figure size 432x288 with 2 Axes>"
            ]
          },
          "metadata": {
            "tags": [],
            "needs_background": "light"
          }
        },
        {
          "output_type": "display_data",
          "data": {
            "image/png": "[encoded data removed]",
            "text/plain": [
              "<Figure size 432x288 with 1 Axes>"
            ]
          },
          "metadata": {
            "tags": [],
            "needs_background": "light"
          }
        },
        {
          "output_type": "display_data",
          "data": {
            "image/png": "[encoded data removed]",
            "text/plain": [
              "<Figure size 432x288 with 1 Axes>"
            ]
          },
          "metadata": {
            "tags": [],
            "needs_background": "light"
          }
        },
        {
          "output_type": "display_data",
          "data": {
            "image/png": "[encoded data removed]",
            "text/plain": [
              "<Figure size 432x288 with 1 Axes>"
            ]
          },
          "metadata": {
            "tags": [],
            "needs_background": "light"
          }
        }
      ]
    }
  ]
}